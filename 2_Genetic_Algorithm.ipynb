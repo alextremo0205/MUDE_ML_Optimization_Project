{
 "cells": [
  {
   "cell_type": "markdown",
   "metadata": {},
   "source": [
    "# Genetic algorithm for Water Distribution Systems - Optimization project (2/2)"
   ]
  },
  {
   "cell_type": "markdown",
   "metadata": {},
   "source": [
    "**Objectives:**\n",
    "- Implement a genetic algorithm to find an appropriate solution for the optimization of a water distribution system.\n",
    "\n",
    "**Completition requirements:**\n",
    "\n",
    "By the end of this notebook, you should have:\n",
    "- Implemented all the code cells for:\n",
    "  - Defining the optimization problem\n",
    "  - Solving the optimization problem\n",
    "  - Analyzing the optimization problem\n",
    "- Answered all the questions"
   ]
  },
  {
   "cell_type": "markdown",
   "metadata": {},
   "source": [
    "## 📔 Libraries\n",
    "\n",
    "<!-- \n",
    "# If you have not installed pytorch geometric uncomment the following lines to install it\n",
    "\n",
    "# !pip install -q torch-scatter -f https://data.pyg.org/whl/torch-${TORCH}.html\n",
    "# !pip install -q torch-sparse -f https://data.pyg.org/whl/torch-${TORCH}.html\n",
    "# !pip install -q git+https://github.com/pyg-team/pytorch_geometric.git\n",
    "\n",
    "# !pip install wntr -->"
   ]
  },
  {
   "cell_type": "markdown",
   "metadata": {},
   "source": [
    "To run this notebook you need to have installed the following packages:\n",
    "- Pandas\n",
    "- Numpy\n",
    "- Matplotlib\n",
    "- WNTR\n",
    "- PyMOO"
   ]
  },
  {
   "cell_type": "code",
   "execution_count": 1,
   "metadata": {},
   "outputs": [],
   "source": [
    "import numpy as np\n",
    "import matplotlib.pyplot as plt\n",
    "\n",
    "#Library for analysis of Water distribution networks\n",
    "import wntr\n",
    "\n",
    "#Genetic algorithm dependencies\n",
    "from pymoo.algorithms.soo.nonconvex.ga import GA\n",
    "from pymoo.operators.crossover.sbx import SBX\n",
    "from pymoo.operators.mutation.pm import PM\n",
    "from pymoo.operators.repair.rounding import RoundingRepair\n",
    "from pymoo.core.problem import Problem\n",
    "from pymoo.optimize import minimize\n",
    "from pymoo.operators.sampling.rnd import IntegerRandomSampling"
   ]
  },
  {
   "cell_type": "markdown",
   "metadata": {},
   "source": [
    "## 🔙 Background"
   ]
  },
  {
   "cell_type": "markdown",
   "metadata": {},
   "source": [
    "### 💧 Water distribution systems"
   ]
  },
  {
   "cell_type": "markdown",
   "metadata": {},
   "source": [
    "As cities grow, so does the challenge of getting water to everyone efficiently. Imagine a giant puzzle where water has to travel from its source, like a reservoir, to homes, stores, and factories. This puzzle gets even trickier in cities because there are many more places that need water, and we need to make sure that if one part of the system breaks, others are still connected. That is why we have looped systems as the one in Figure 1.\n",
    "\n",
    "However, figuring out the best way to design these water networks is a real challenge. It's like solving a complex puzzle. Using the methods we learned before, like linear programming, isn't practical anymore. We need a different approach.\n",
    "\n",
    "In this assignment, we're going to use a genetic algorithm to address this problem. In order to reduce some complexity of the problem, each pipe line will have only one diameter. This makes facilitates the problem; however, there is still an enourmous amount of possibilities to consider.\n",
    "\n",
    "To help us calculate the hydraulics in the system, we'll use a numerical model for calculating the pressure for all the nodes. This model will help us understand how much pressure there is at different points in the water network. By figuring this out, we can create a system that reliably delivers water to every corner of the city."
   ]
  },
  {
   "cell_type": "markdown",
   "metadata": {},
   "source": [
    "<div>\n",
    "<center><img src=\"./Images/Modena.png\" width=\"600\"/></center>\n",
    "</div>\n",
    "\n",
    "Figure 1. Numerical results for the water distribution system in the city of Modena, Italy."
   ]
  },
  {
   "cell_type": "markdown",
   "metadata": {},
   "source": [
    "### 🖥Numerical model"
   ]
  },
  {
   "cell_type": "markdown",
   "metadata": {},
   "source": [
    "The Water Network Tool for Resilience (WNTR) is a powerful and flexible Python library designed for modeling, simulating, and analyzing water distribution systems. WNTR is based upon EPANET, which is a widely used software tool for simulating and analyzing water distribution systems. It plays a crucial role in the management and design of water distribution networks by enabling engineers and researchers to model, simulate, and optimize the complex interactions within these systems.\n",
    "\n",
    "In this notebook, we are going to use this library to compute the pressures at the nodes given diverse configurations of diameters."
   ]
  },
  {
   "cell_type": "markdown",
   "metadata": {},
   "source": [
    "<div style=\"display: flex;\">\n",
    "<center>\n",
    "    <img src=\"./Images/Epanet_Logo.png\" alt=\"Image 1\" style=\"width: 18%; height: auto;\">\n",
    "    <img src=\"./Images/wntr_logo.webp\" alt=\"Image 2\" style=\"width: 50%; height: auto;\">\n",
    "</center>\n",
    "</div>\n",
    "Figure 2. EPANET and WNTR logos.\n",
    "\n"
   ]
  },
  {
   "cell_type": "markdown",
   "metadata": {},
   "source": [
    "### 🧬Genetic algorithm"
   ]
  },
  {
   "cell_type": "markdown",
   "metadata": {},
   "source": [
    "Genetic Algorithms (GAs) are powerful optimization techniques inspired by the process of natural evolution. They have gained prominence in solving complex problems across various fields, ranging from engineering and economics to artificial intelligence. Here, we give a brief overview of Genetic Algorithms, highlighting their fundamental principles, components, and applications in solving optimization problems.\n",
    "\n",
    "At the heart of a Genetic Algorithm are populations of potential solutions, represented as individuals or chromosomes. These individuals evolve over generations to improve their fitness with respect to the given optimization objective.\n",
    "\n",
    "Basic Components of a Genetic Algorithm:\n",
    "- **Population**: A collection of individuals representing potential solutions to the problem.\n",
    "- **Fitness** Function: Quantifies the quality of each individual's solution with respect to the optimization objective.\n",
    "- **Selection**: Individuals are chosen based on their fitness to serve as parents for the next generation.\n",
    "- **Crossover**: Genetic material from parents is combined to create offspring with potentially improved traits.\n",
    "- **Mutation**: Random changes are introduced in offspring to maintain diversity and explore new solution spaces.\n",
    "- **Replacement**: New offspring replace some of the least fit individuals in the population.\n",
    "- **Termination Criteria**: Conditions under which the algorithm stops, e.g., a maximum number of generations or satisfactory fitness level."
   ]
  },
  {
   "cell_type": "markdown",
   "metadata": {},
   "source": [
    "Working Principle:\n",
    "\n",
    "- **Initialization**: A population of random individuals is generated to start the algorithm.\n",
    "- **Evaluation**: The fitness function assesses the quality of each individual's solution.\n",
    "- **Selection**: Individuals with higher fitness have a higher chance of being selected as parents.\n",
    "- **Crossover**: Genetic material from selected parents is combined to create offspring.\n",
    "- **Mutation**: Random changes are introduced to some offspring to maintain diversity.\n",
    "- **Replacement**: New offspring replace some individuals in the population.\n",
    "- **Termination**: The algorithm stops when a termination criterion is met."
   ]
  },
  {
   "cell_type": "markdown",
   "metadata": {},
   "source": [
    "#### PyMOO Library"
   ]
  },
  {
   "cell_type": "markdown",
   "metadata": {},
   "source": [
    "PyMOO is a Python library that provides a comprehensive and easy-to-use framework for multi-objective optimization (MOO). For this case, we are going to deal with only one objective; nevertheless, this is an useful tool if you have more objectives. In addition, PyMOO easily allows us to define our optimization problem by specifying the objectives, constraints, and decision variables"
   ]
  },
  {
   "cell_type": "markdown",
   "metadata": {},
   "source": [
    "## ⛔ Problem definition "
   ]
  },
  {
   "cell_type": "markdown",
   "metadata": {},
   "source": [
    "The problem is to find the pipe diameters that minimize the cost of the pipe lines while satisfying the customer demand for water usage and supply pressure. \n",
    "\n",
    "<!-- For this application, we will only consider systems feed by reservoirs that work via gravity. -->"
   ]
  },
  {
   "cell_type": "markdown",
   "metadata": {},
   "source": [
    "### 🎯 Objective function"
   ]
  },
  {
   "cell_type": "markdown",
   "metadata": {},
   "source": [
    "We want to minimize the cost of the pipes. Each pipe has a different cost according to its diameter and its length. Generally, the larger the pipe, the more expensive it is. \n",
    "\n",
    "We can define the total cost $Z$ of installing all the pipes as the following function\n",
    "$$\n",
    "\\begin{align}\n",
    "  & min Z = \\sum_{j=1}^{N}C_{j}\\sum_{i=1}^{M} L_{ij}\\\\\n",
    "\\end{align}\n",
    "$$ (eq_cost_function)\n",
    "\n",
    "where $C_{j}$ is the cost of pipe per meter-length having diameter $j$."
   ]
  },
  {
   "cell_type": "markdown",
   "metadata": {},
   "source": [
    "### 🚫 Restrictions"
   ]
  },
  {
   "cell_type": "markdown",
   "metadata": {},
   "source": [
    "We consider one main restriction.\n",
    "\n",
    "1) The water should arrive at the consumer nodes with sufficient pressure. This is, there should be sufficient energy for transporting the water from the source to each of nodes. This restriction can be written as\n",
    "\n",
    "$$\n",
    "\\sum_{i=1}^{N} H_{i} \\leq H^{*} \n",
    "$$\n",
    "\n",
    "<!-- \\; \\text{for every node i in the system.} -->"
   ]
  },
  {
   "cell_type": "markdown",
   "metadata": {},
   "source": [
    "## 💻 Genetic algorithm - Example"
   ]
  },
  {
   "cell_type": "markdown",
   "metadata": {},
   "source": [
    "We exemplify the implementation of these algorithms with the system \"Two loop network (TLN)\". This system consists of one reservoir, six demand nodes and eight pipes organised in two loops. The reservoir has a constant head fixed at 210 m. As a hypothetical network all pipes have the same length (1000 m). The pressure is set to be at least 30.0 m at all demand nodes. The following table shows commercially available diameters and the corresponding unit costs (1 in.=0.0254 m). \n",
    "\n",
    "| Diameter [in] | 1    | 2    | 3    | 4    | 6    | 8    | 10   | 12   | 14   | 16   | 18   | 20   | 22   | 24   |\n",
    "|-------------------|------|------|------|------|------|------|------|------|------|------|------|------|------|------|\n",
    "| Cost per meter [€/m] | 2    | 5    | 8    | 11   | 16   | 23   | 32   | 50   | 60   | 90   | 130  | 170  | 300  | 500  |\n",
    "\n",
    "\n",
    "<!-- and the Hazen-Williams coefficient of 130. -->"
   ]
  },
  {
   "cell_type": "markdown",
   "metadata": {},
   "source": [
    "<div>\n",
    "<center><img src=\"./Images/TLN_image.png\" width=\"300\"/></center>\n",
    "</div>\n"
   ]
  },
  {
   "cell_type": "markdown",
   "metadata": {},
   "source": [
    "First, let's define some preliminary variables and functions that are going to be used later."
   ]
  },
  {
   "cell_type": "code",
   "execution_count": 2,
   "metadata": {},
   "outputs": [],
   "source": [
    "IN_TO_M = 0.0254\n",
    "\n",
    "cost_function_diameter_inches = {\n",
    "    1: 2,\n",
    "    2: 5,\n",
    "    3: 8,\n",
    "    4: 11,\n",
    "    6: 16,\n",
    "    8: 23,\n",
    "    10: 32,\n",
    "    12: 50,\n",
    "    14: 60,\n",
    "    16: 90,\n",
    "    18: 130,\n",
    "    20: 170,\n",
    "    22: 300,\n",
    "    24: 500\n",
    "}\n",
    "\n",
    "pipe_index = {\n",
    "    0:1,\n",
    "    1:2,\n",
    "    2:3,\n",
    "    3:4,\n",
    "    4:6,\n",
    "    5:8,\n",
    "    6:10,\n",
    "    7:12,\n",
    "    8:14,\n",
    "    9:16,\n",
    "    10:18,\n",
    "    11:20,\n",
    "    12:22,\n",
    "    13:24\n",
    "    }\n",
    "\n",
    "H_star = 20\n",
    "\n",
    "def transform_index_to_diameter(matrix_indexes, pipe_index):\n",
    "    return np.array([[pipe_index[j] for j in vector_indexes] for vector_indexes in matrix_indexes])\n",
    "\n",
    "def transform_diameter_to_cost(matrix_indexes, pipe_index):\n",
    "    return np.array([[pipe_index[j] for j in vector_indexes] for vector_indexes in matrix_indexes])"
   ]
  },
  {
   "cell_type": "markdown",
   "metadata": {},
   "source": [
    "Here, we use the WNTR library to load the data from TLN. This creates the variable **wn** which stores all the information about the nodes, pipes, reservoirs and other components of the water network."
   ]
  },
  {
   "cell_type": "code",
   "execution_count": 3,
   "metadata": {},
   "outputs": [
    {
     "data": {
      "image/png": "[encoded data removed]",
      "text/plain": [
       "<Figure size 640x480 with 1 Axes>"
      ]
     },
     "metadata": {},
     "output_type": "display_data"
    },
    {
     "data": {
      "text/plain": [
       "<Axes: title={'center': 'TLN.inp'}>"
      ]
     },
     "execution_count": 3,
     "metadata": {},
     "output_type": "execute_result"
    }
   ],
   "source": [
    "# Create a water network model\n",
    "inp_file = 'TLN.inp'\n",
    "wn = wntr.network.WaterNetworkModel(inp_file)\n",
    "\n",
    "# Graph the network\n",
    "wntr.graphics.plot_network(wn, title=wn.name)"
   ]
  },
  {
   "cell_type": "markdown",
   "metadata": {},
   "source": [
    "Here, we use the PyMOO library to define and solve the optimization problem."
   ]
  },
  {
   "cell_type": "code",
   "execution_count": null,
   "metadata": {},
   "outputs": [],
   "source": [
    "#Problem definition:\n",
    "population_size = 100\n",
    "class TwoLoopOptimization(Problem):\n",
    "    def __init__(self):\n",
    "        #Here, we indicate that our problem has:\n",
    "        super().__init__(n_var=8,        #8 decision variables (one diameter per pipe)\n",
    "                         n_obj=1,        #1 objective\n",
    "                         n_ieq_constr=6, #6 inequality constraints\n",
    "                         xl=0.0,         #0 as beginning index to search\n",
    "                         xu=13.0,        #13 as final index to search\n",
    "                         vtype=int)      #integer as type of variable \n",
    "        \n",
    "\n",
    "    def _evaluate(self, x, out, *args, **kwargs):\n",
    "        #x contains a population of all individuals (proposed solutions)\n",
    "        #Here we map the indexes of each individual to the corresponding pipes\n",
    "        new_x = transform_index_to_diameter(x, pipe_index)\n",
    "        pressure_heads   = np.zeros((population_size, 6))\n",
    "        individual_costs = np.zeros((population_size,1))\n",
    "        \n",
    "        #In here, for each individual of the population, we run the numerical simulation\n",
    "        for i, individual in enumerate(new_x):\n",
    "            cost = 0\n",
    "            #First, we modify the pipes\n",
    "            for j, pipe_name in enumerate(wn.pipe_name_list):\n",
    "                pipe = wn.get_link(pipe_name)\n",
    "                # Modify the water network \n",
    "                pipe.diameter = individual[j] * IN_TO_M\n",
    "                # Calculate the cost of the network\n",
    "                cost += cost_function_diameter_inches[individual[j]] * pipe.length\n",
    "            \n",
    "            individual_costs[i] = cost\n",
    "\n",
    "            #Simulate the water network with the modified individual\n",
    "            sim = wntr.sim.EpanetSimulator(wn)\n",
    "            results = sim.run_sim()\n",
    "\n",
    "            pressure_heads[i,:]= results.node['head'].values[0][:-1]\n",
    "        \n",
    "        out[\"F\"] = individual_costs          #In F, we store the objective function\n",
    "        out[\"G\"] = -(pressure_heads - H_star)#In G, we store the restrictions, notice the minus sign as the restrictions are all in the form G <= 0"
   ]
  },
  {
   "cell_type": "code",
   "execution_count": 17,
   "metadata": {},
   "outputs": [
    {
     "name": "stdout",
     "output_type": "stream",
     "text": [
      "=================================================================================\n",
      "n_gen  |  n_eval  |     cv_min    |     cv_avg    |     f_avg     |     f_min    \n",
      "=================================================================================\n",
      "     1 |      100 |  0.000000E+00 |  2.362708E+06 |  8.072500E+05 |  3.930000E+05\n",
      "     2 |      200 |  0.000000E+00 |  6.800838E+01 |  8.195949E+05 |  3.190000E+05\n",
      "     3 |      300 |  0.000000E+00 |  0.000000E+00 |  6.033500E+05 |  3.190000E+05\n",
      "     4 |      400 |  0.000000E+00 |  0.000000E+00 |  4.825700E+05 |  2.800000E+05\n",
      "     5 |      500 |  0.000000E+00 |  0.000000E+00 |  4.124900E+05 |  2.430000E+05\n",
      "     6 |      600 |  0.000000E+00 |  0.000000E+00 |  3.521800E+05 |  2.280000E+05\n",
      "     7 |      700 |  0.000000E+00 |  0.000000E+00 |  3.120000E+05 |  2.140000E+05\n",
      "     8 |      800 |  0.000000E+00 |  0.000000E+00 |  2.811600E+05 |  2.130000E+05\n",
      "     9 |      900 |  0.000000E+00 |  0.000000E+00 |  2.632800E+05 |  1.980000E+05\n",
      "    10 |     1000 |  0.000000E+00 |  0.000000E+00 |  2.466500E+05 |  1.880000E+05\n",
      "    11 |     1100 |  0.000000E+00 |  0.000000E+00 |  2.324100E+05 |  1.880000E+05\n",
      "    12 |     1200 |  0.000000E+00 |  0.000000E+00 |  2.241500E+05 |  1.880000E+05\n",
      "    13 |     1300 |  0.000000E+00 |  0.000000E+00 |  2.186100E+05 |  1.880000E+05\n",
      "    14 |     1400 |  0.000000E+00 |  0.000000E+00 |  2.136800E+05 |  1.880000E+05\n",
      "    15 |     1500 |  0.000000E+00 |  0.000000E+00 |  2.099900E+05 |  1.850000E+05\n",
      "    16 |     1600 |  0.000000E+00 |  0.000000E+00 |  2.072600E+05 |  1.830000E+05\n",
      "    17 |     1700 |  0.000000E+00 |  0.000000E+00 |  2.051400E+05 |  1.830000E+05\n",
      "    18 |     1800 |  0.000000E+00 |  0.000000E+00 |  2.025500E+05 |  1.820000E+05\n",
      "    19 |     1900 |  0.000000E+00 |  0.000000E+00 |  1.999000E+05 |  1.810000E+05\n",
      "    20 |     2000 |  0.000000E+00 |  0.000000E+00 |  1.984500E+05 |  1.800000E+05\n",
      "    21 |     2100 |  0.000000E+00 |  0.000000E+00 |  1.970800E+05 |  1.800000E+05\n",
      "    22 |     2200 |  0.000000E+00 |  0.000000E+00 |  1.954700E+05 |  1.800000E+05\n",
      "    23 |     2300 |  0.000000E+00 |  0.000000E+00 |  1.947400E+05 |  1.800000E+05\n",
      "    24 |     2400 |  0.000000E+00 |  0.000000E+00 |  1.937100E+05 |  1.800000E+05\n",
      "    25 |     2500 |  0.000000E+00 |  0.000000E+00 |  1.927800E+05 |  1.800000E+05\n",
      "    26 |     2600 |  0.000000E+00 |  0.000000E+00 |  1.916300E+05 |  1.770000E+05\n",
      "    27 |     2700 |  0.000000E+00 |  0.000000E+00 |  1.907200E+05 |  1.770000E+05\n",
      "    28 |     2800 |  0.000000E+00 |  0.000000E+00 |  1.904800E+05 |  1.770000E+05\n",
      "    29 |     2900 |  0.000000E+00 |  0.000000E+00 |  1.898000E+05 |  1.770000E+05\n",
      "    30 |     3000 |  0.000000E+00 |  0.000000E+00 |  1.890700E+05 |  1.770000E+05\n",
      "    31 |     3100 |  0.000000E+00 |  0.000000E+00 |  1.885300E+05 |  1.770000E+05\n",
      "    32 |     3200 |  0.000000E+00 |  0.000000E+00 |  1.879300E+05 |  1.770000E+05\n",
      "    33 |     3300 |  0.000000E+00 |  0.000000E+00 |  1.876700E+05 |  1.770000E+05\n",
      "    34 |     3400 |  0.000000E+00 |  0.000000E+00 |  1.874000E+05 |  1.770000E+05\n",
      "    35 |     3500 |  0.000000E+00 |  0.000000E+00 |  1.868400E+05 |  1.750000E+05\n",
      "    36 |     3600 |  0.000000E+00 |  0.000000E+00 |  1.865600E+05 |  1.750000E+05\n",
      "    37 |     3700 |  0.000000E+00 |  0.000000E+00 |  1.864800E+05 |  1.750000E+05\n",
      "    38 |     3800 |  0.000000E+00 |  0.000000E+00 |  1.863200E+05 |  1.750000E+05\n",
      "    39 |     3900 |  0.000000E+00 |  0.000000E+00 |  1.861700E+05 |  1.750000E+05\n",
      "    40 |     4000 |  0.000000E+00 |  0.000000E+00 |  1.859900E+05 |  1.750000E+05\n",
      "    41 |     4100 |  0.000000E+00 |  0.000000E+00 |  1.859300E+05 |  1.750000E+05\n",
      "    42 |     4200 |  0.000000E+00 |  0.000000E+00 |  1.856100E+05 |  1.750000E+05\n",
      "    43 |     4300 |  0.000000E+00 |  0.000000E+00 |  1.855300E+05 |  1.750000E+05\n",
      "    44 |     4400 |  0.000000E+00 |  0.000000E+00 |  1.854000E+05 |  1.750000E+05\n",
      "    45 |     4500 |  0.000000E+00 |  0.000000E+00 |  1.852700E+05 |  1.750000E+05\n",
      "    46 |     4600 |  0.000000E+00 |  0.000000E+00 |  1.851400E+05 |  1.750000E+05\n",
      "    47 |     4700 |  0.000000E+00 |  0.000000E+00 |  1.850900E+05 |  1.750000E+05\n",
      "    48 |     4800 |  0.000000E+00 |  0.000000E+00 |  1.850900E+05 |  1.750000E+05\n",
      "    49 |     4900 |  0.000000E+00 |  0.000000E+00 |  1.850500E+05 |  1.750000E+05\n",
      "    50 |     5000 |  0.000000E+00 |  0.000000E+00 |  1.847700E+05 |  1.750000E+05\n",
      "    51 |     5100 |  0.000000E+00 |  0.000000E+00 |  1.847400E+05 |  1.750000E+05\n",
      "    52 |     5200 |  0.000000E+00 |  0.000000E+00 |  1.845300E+05 |  1.750000E+05\n",
      "    53 |     5300 |  0.000000E+00 |  0.000000E+00 |  1.844800E+05 |  1.750000E+05\n",
      "    54 |     5400 |  0.000000E+00 |  0.000000E+00 |  1.841300E+05 |  1.750000E+05\n",
      "    55 |     5500 |  0.000000E+00 |  0.000000E+00 |  1.841300E+05 |  1.750000E+05\n",
      "    56 |     5600 |  0.000000E+00 |  0.000000E+00 |  1.840000E+05 |  1.750000E+05\n",
      "    57 |     5700 |  0.000000E+00 |  0.000000E+00 |  1.840000E+05 |  1.750000E+05\n",
      "    58 |     5800 |  0.000000E+00 |  0.000000E+00 |  1.839600E+05 |  1.750000E+05\n",
      "    59 |     5900 |  0.000000E+00 |  0.000000E+00 |  1.839400E+05 |  1.750000E+05\n",
      "    60 |     6000 |  0.000000E+00 |  0.000000E+00 |  1.839000E+05 |  1.750000E+05\n",
      "    61 |     6100 |  0.000000E+00 |  0.000000E+00 |  1.837700E+05 |  1.750000E+05\n",
      "    62 |     6200 |  0.000000E+00 |  0.000000E+00 |  1.836600E+05 |  1.750000E+05\n",
      "    63 |     6300 |  0.000000E+00 |  0.000000E+00 |  1.836300E+05 |  1.750000E+05\n",
      "    64 |     6400 |  0.000000E+00 |  0.000000E+00 |  1.835500E+05 |  1.750000E+05\n",
      "    65 |     6500 |  0.000000E+00 |  0.000000E+00 |  1.835200E+05 |  1.750000E+05\n",
      "    66 |     6600 |  0.000000E+00 |  0.000000E+00 |  1.835200E+05 |  1.750000E+05\n",
      "    67 |     6700 |  0.000000E+00 |  0.000000E+00 |  1.835200E+05 |  1.750000E+05\n",
      "    68 |     6800 |  0.000000E+00 |  0.000000E+00 |  1.834700E+05 |  1.750000E+05\n",
      "    69 |     6900 |  0.000000E+00 |  0.000000E+00 |  1.834700E+05 |  1.750000E+05\n",
      "    70 |     7000 |  0.000000E+00 |  0.000000E+00 |  1.834700E+05 |  1.750000E+05\n",
      "    71 |     7100 |  0.000000E+00 |  0.000000E+00 |  1.834500E+05 |  1.750000E+05\n",
      "    72 |     7200 |  0.000000E+00 |  0.000000E+00 |  1.833700E+05 |  1.750000E+05\n",
      "    73 |     7300 |  0.000000E+00 |  0.000000E+00 |  1.833600E+05 |  1.750000E+05\n",
      "    74 |     7400 |  0.000000E+00 |  0.000000E+00 |  1.833600E+05 |  1.750000E+05\n",
      "    75 |     7500 |  0.000000E+00 |  0.000000E+00 |  1.832500E+05 |  1.750000E+05\n",
      "    76 |     7600 |  0.000000E+00 |  0.000000E+00 |  1.832500E+05 |  1.750000E+05\n",
      "    77 |     7700 |  0.000000E+00 |  0.000000E+00 |  1.832400E+05 |  1.750000E+05\n",
      "    78 |     7800 |  0.000000E+00 |  0.000000E+00 |  1.832400E+05 |  1.750000E+05\n",
      "    79 |     7900 |  0.000000E+00 |  0.000000E+00 |  1.832400E+05 |  1.750000E+05\n",
      "    80 |     8000 |  0.000000E+00 |  0.000000E+00 |  1.832400E+05 |  1.750000E+05\n",
      "    81 |     8100 |  0.000000E+00 |  0.000000E+00 |  1.832400E+05 |  1.750000E+05\n",
      "    82 |     8200 |  0.000000E+00 |  0.000000E+00 |  1.832400E+05 |  1.750000E+05\n",
      "    83 |     8300 |  0.000000E+00 |  0.000000E+00 |  1.832100E+05 |  1.750000E+05\n",
      "    84 |     8400 |  0.000000E+00 |  0.000000E+00 |  1.832100E+05 |  1.750000E+05\n",
      "    85 |     8500 |  0.000000E+00 |  0.000000E+00 |  1.832000E+05 |  1.750000E+05\n",
      "    86 |     8600 |  0.000000E+00 |  0.000000E+00 |  1.832000E+05 |  1.750000E+05\n",
      "    87 |     8700 |  0.000000E+00 |  0.000000E+00 |  1.832000E+05 |  1.750000E+05\n",
      "    88 |     8800 |  0.000000E+00 |  0.000000E+00 |  1.832000E+05 |  1.750000E+05\n",
      "    89 |     8900 |  0.000000E+00 |  0.000000E+00 |  1.832000E+05 |  1.750000E+05\n",
      "    90 |     9000 |  0.000000E+00 |  0.000000E+00 |  1.831000E+05 |  1.750000E+05\n",
      "    91 |     9100 |  0.000000E+00 |  0.000000E+00 |  1.831000E+05 |  1.750000E+05\n",
      "    92 |     9200 |  0.000000E+00 |  0.000000E+00 |  1.831000E+05 |  1.750000E+05\n",
      "    93 |     9300 |  0.000000E+00 |  0.000000E+00 |  1.830700E+05 |  1.750000E+05\n",
      "    94 |     9400 |  0.000000E+00 |  0.000000E+00 |  1.830500E+05 |  1.750000E+05\n",
      "    95 |     9500 |  0.000000E+00 |  0.000000E+00 |  1.829700E+05 |  1.750000E+05\n",
      "    96 |     9600 |  0.000000E+00 |  0.000000E+00 |  1.829400E+05 |  1.750000E+05\n",
      "    97 |     9700 |  0.000000E+00 |  0.000000E+00 |  1.829200E+05 |  1.750000E+05\n",
      "    98 |     9800 |  0.000000E+00 |  0.000000E+00 |  1.829200E+05 |  1.750000E+05\n",
      "    99 |     9900 |  0.000000E+00 |  0.000000E+00 |  1.829200E+05 |  1.750000E+05\n",
      "   100 |    10000 |  0.000000E+00 |  0.000000E+00 |  1.829200E+05 |  1.750000E+05\n",
      "Best solution found: [7 3 6 5 6 5 0 0]\n",
      "Function value: [175000.]\n",
      "Constraint violation: [0.]\n"
     ]
    }
   ],
   "source": [
    "problem = TwoLoopOptimization()\n",
    "\n",
    "method = GA(pop_size=population_size,\n",
    "            sampling=IntegerRandomSampling(),\n",
    "            crossover=SBX(prob=1.0, eta=3.0, vtype=float, repair=RoundingRepair()),\n",
    "            mutation=PM(prob=1.0, eta=3.0, vtype=float, repair=RoundingRepair()),\n",
    "            eliminate_duplicates=True,\n",
    "            )\n",
    "\n",
    "res = minimize(problem,\n",
    "               method,\n",
    "               termination=('n_gen', 100),\n",
    "               seed=1,\n",
    "               save_history=True,\n",
    "               verbose=True\n",
    "               )\n",
    "\n",
    "print(\"Best solution found: %s\" % res.X)\n",
    "print(\"Function value: %s\" % res.F)\n",
    "print(\"Constraint violation: %s\" % res.CV)"
   ]
  },
  {
   "cell_type": "markdown",
   "metadata": {},
   "source": [
    "Evaluate best solution"
   ]
  },
  {
   "cell_type": "code",
   "execution_count": 20,
   "metadata": {},
   "outputs": [
    {
     "name": "stdout",
     "output_type": "stream",
     "text": [
      "[0.305 0.102 0.254 0.203 0.254 0.203 0.025 0.025]\n"
     ]
    }
   ],
   "source": [
    "optimal_diameters = transform_index_to_diameter([res.X], pipe_index)[0]*IN_TO_M\n",
    "print(optimal_diameters)"
   ]
  },
  {
   "cell_type": "code",
   "execution_count": 21,
   "metadata": {},
   "outputs": [],
   "source": [
    "# Modify the water network\n",
    "for j, pipe_name in enumerate(wn.pipe_name_list):\n",
    "    pipe = wn.get_link(pipe_name)\n",
    "    # Modify the water network \n",
    "    pipe.diameter = optimal_diameters[j]"
   ]
  },
  {
   "cell_type": "code",
   "execution_count": 22,
   "metadata": {},
   "outputs": [],
   "source": [
    "sim = wntr.sim.EpanetSimulator(wn)\n",
    "results = sim.run_sim()"
   ]
  },
  {
   "cell_type": "code",
   "execution_count": 23,
   "metadata": {},
   "outputs": [
    {
     "data": {
      "text/html": [
       "<div>\n",
       "<style scoped>\n",
       "    .dataframe tbody tr th:only-of-type {\n",
       "        vertical-align: middle;\n",
       "    }\n",
       "\n",
       "    .dataframe tbody tr th {\n",
       "        vertical-align: top;\n",
       "    }\n",
       "\n",
       "    .dataframe thead th {\n",
       "        text-align: right;\n",
       "    }\n",
       "</style>\n",
       "<table border=\"1\" class=\"dataframe\">\n",
       "  <thead>\n",
       "    <tr style=\"text-align: right;\">\n",
       "      <th>name</th>\n",
       "      <th>2</th>\n",
       "      <th>3</th>\n",
       "      <th>4</th>\n",
       "      <th>5</th>\n",
       "      <th>6</th>\n",
       "      <th>7</th>\n",
       "      <th>1</th>\n",
       "    </tr>\n",
       "  </thead>\n",
       "  <tbody>\n",
       "    <tr>\n",
       "      <th>0</th>\n",
       "      <td>161.330154</td>\n",
       "      <td>45.874092</td>\n",
       "      <td>79.038292</td>\n",
       "      <td>53.587803</td>\n",
       "      <td>49.546474</td>\n",
       "      <td>35.241459</td>\n",
       "      <td>210.0</td>\n",
       "    </tr>\n",
       "  </tbody>\n",
       "</table>\n",
       "</div>"
      ],
      "text/plain": [
       "name           2          3          4          5          6          7      1\n",
       "0     161.330154  45.874092  79.038292  53.587803  49.546474  35.241459  210.0"
      ]
     },
     "execution_count": 23,
     "metadata": {},
     "output_type": "execute_result"
    }
   ],
   "source": [
    "results.node['head']"
   ]
  },
  {
   "cell_type": "markdown",
   "metadata": {},
   "source": [
    "## 🏋🏽‍♀️ Exercise: Genetic algorithm"
   ]
  },
  {
   "cell_type": "markdown",
   "metadata": {},
   "source": [
    "| Diameter [mm] |   100 |   125 |   150 |   200 |   250 |   300 |   350 |   400 |   450 |   500 |   600 |   700 |   800 |\n",
    "|--------------:|------:|------:|------:|------:|------:|------:|------:|------:|------:|------:|------:|------:|------:|\n",
    "| Cost per meter [€/m] |  27.7 |  38.0 |  40.5 |  55.4 |  75.0 |  92.4 | 123.1 | 141.9 | 169.3 | 191.5 | 246.0 | 319.6 | 391.1 |\n"
   ]
  },
  {
   "cell_type": "markdown",
   "metadata": {},
   "source": [
    "WNTR"
   ]
  },
  {
   "cell_type": "code",
   "execution_count": 24,
   "metadata": {},
   "outputs": [
    {
     "data": {
      "image/png": "[encoded data removed]",
      "text/plain": [
       "<Figure size 640x480 with 1 Axes>"
      ]
     },
     "metadata": {},
     "output_type": "display_data"
    },
    {
     "data": {
      "text/plain": [
       "<Axes: title={'center': 'MOD.inp'}>"
      ]
     },
     "execution_count": 24,
     "metadata": {},
     "output_type": "execute_result"
    }
   ],
   "source": [
    "# Create a water network model\n",
    "inp_file = 'MOD.inp'\n",
    "wn = wntr.network.WaterNetworkModel(inp_file)\n",
    "\n",
    "# Graph the network\n",
    "wntr.graphics.plot_network(wn, title=wn.name)\n"
   ]
  },
  {
   "cell_type": "code",
   "execution_count": 25,
   "metadata": {},
   "outputs": [],
   "source": [
    "MM_TO_M = 0.001\n",
    "cost_function_diameter_mm = {\n",
    "    100: 27.7,\n",
    "    125: 38.0,\n",
    "    150: 40.5,\n",
    "    200: 55.4,\n",
    "    250: 75.0,\n",
    "    300: 92.4,\n",
    "    350: 123.1,\n",
    "    400: 141.9,\n",
    "    450: 169.3,\n",
    "    500: 191.5,\n",
    "    600: 246.0,\n",
    "    700: 319.6,\n",
    "    800: 391.1\n",
    "}\n",
    "\n",
    "pipe_index = {\n",
    "    0:100,\n",
    "    1:125,\n",
    "    2:150,\n",
    "    3:200,\n",
    "    4:250,\n",
    "    5:300,\n",
    "    6:350,\n",
    "    7:400,\n",
    "    8:450,\n",
    "    9:500,\n",
    "    10:600,\n",
    "    11:700,\n",
    "    12:800,\n",
    "    }\n",
    "\n",
    "H_star = 20\n",
    "\n",
    "def transform_index_to_diameter(matrix_indexes, pipe_index):\n",
    "    return np.array([[pipe_index[j] for j in vector_indexes] for vector_indexes in matrix_indexes])\n",
    "\n",
    "def transform_diameter_to_cost(matrix_indexes, pipe_index):\n",
    "    return np.array([[pipe_index[j] for j in vector_indexes] for vector_indexes in matrix_indexes])"
   ]
  },
  {
   "cell_type": "code",
   "execution_count": 26,
   "metadata": {},
   "outputs": [
    {
     "name": "stdout",
     "output_type": "stream",
     "text": [
      "=================================================================================\n",
      "n_gen  |  n_eval  |     cv_min    |     cv_avg    |     f_avg     |     f_min    \n",
      "=================================================================================\n",
      "     1 |       20 |  0.000000E+00 |  0.000000E+00 |  1.009557E+07 |  9.148062E+06\n",
      "     2 |       40 |  0.000000E+00 |  0.000000E+00 |  9.169780E+06 |  7.622350E+06\n",
      "     3 |       60 |  0.000000E+00 |  0.000000E+00 |  8.177076E+06 |  6.439084E+06\n",
      "     4 |       80 |  0.000000E+00 |  0.000000E+00 |  7.119703E+06 |  6.295733E+06\n",
      "     5 |      100 |  0.000000E+00 |  0.000000E+00 |  6.455269E+06 |  5.460360E+06\n",
      "     6 |      120 |  0.000000E+00 |  0.000000E+00 |  5.915198E+06 |  4.842441E+06\n",
      "     7 |      140 |  0.000000E+00 |  0.000000E+00 |  5.273315E+06 |  4.425332E+06\n",
      "     8 |      160 |  0.000000E+00 |  0.000000E+00 |  4.834673E+06 |  4.425332E+06\n",
      "     9 |      180 |  0.000000E+00 |  0.000000E+00 |  4.517469E+06 |  4.114552E+06\n",
      "    10 |      200 |  0.000000E+00 |  0.000000E+00 |  4.375625E+06 |  4.114552E+06\n",
      "Best solution found: [ 4  3  1  0  7  3  0  1  2  0  2  0  4  0  5  1  1  6  8  1  3  1  8  0  2  2  1  0  3  3  3  4  2  3  2  1  5  0  4  1  0  0  1  3  1  5  5  2  1  4  2  3  1  1  2  3  1  2  0  5  6  1  2  3  3  4  0  3  1  2  1  5  2  8  0  2  6  6  1  6  1  1  1  1  7  0  3  0  5  1  7  1  7  1  1  2  1  4  1\n",
      "  1  6  3  2  1  2  2  2  1  3  5  1  1  0  0  3  0  2  2  1  1  9  4  5  3  0  4  5  0  1  3  0  1  2  2  0  4  0  9  5  2  3  0  3  1  1  2  1  8  4  1  3  8  0  3  1  6  2  5  1  0  3  0  3  0  8  1  5  1  2  4  9  2  2  0  2  1  0  1  5  2  1  1  0  0  1  2  6  2  1  2  1  8  4  2  2  5  0  2\n",
      "  2  2  0  3  1  2  0  2  3  3  0  0  8  1  0  0  7  1  4  1  1  4  4  1  0  1  2  2  3  5  1  1  0  5  3  1 10  1  1  4  3  4  3  5  2  1  1  0  4  1  3  4  1  4  2  2 11  9  2  3  2  1  1  4  1  1  1  1  1  1  3  2  3  0  2  0  1  5  2  1  0  1  5  8  2  2  5  1  2  3  0  1  3  5  1  0  9  0  4\n",
      "  1  0  2  1  6  2  0  2  2  1  3  2  4  2  4  2  2  6  1  1]\n",
      "Function value: [4114552.071]\n",
      "Constraint violation: [0.]\n"
     ]
    }
   ],
   "source": [
    "class ModenaOptimization(Problem):\n",
    "    \n",
    "    def __init__(self):\n",
    "        super().__init__(n_var=317, n_obj=1, n_ieq_constr=268, xl=0.0, xu=12.0, vtype=int)\n",
    "\n",
    "    def _evaluate(self, x, out, *args, **kwargs):\n",
    "\n",
    "        new_x = transform_index_to_diameter(x, pipe_index)\n",
    "        pressure_heads = np.zeros((20, 268))\n",
    "        individual_costs = np.zeros((20,1))\n",
    "        # Modify the water network \n",
    "        for i, individual in enumerate(new_x):\n",
    "            cost = 0\n",
    "            for j, pipe_name in enumerate(wn.pipe_name_list):\n",
    "                pipe = wn.get_link(pipe_name)\n",
    "                pipe.diameter = individual[j] * MM_TO_M\n",
    "                cost += cost_function_diameter_mm[individual[j]] * pipe.length\n",
    "            \n",
    "            individual_costs[i] = cost\n",
    "            #Simulate the individual\n",
    "            sim = wntr.sim.EpanetSimulator(wn)\n",
    "            results = sim.run_sim()\n",
    "\n",
    "            #\n",
    "            pressure_heads[i,:]= results.node['head'].values[0][:-4] #Excluding the 4 reservoirs\n",
    "        \n",
    "        out[\"F\"] = individual_costs#new_x @ np.array([[1, 2, 3, 4, 5, 6, 7, 8]]).transpose()\n",
    "        out[\"G\"] = -(pressure_heads - H_star)\n",
    "\n",
    "problem = ModenaOptimization()\n",
    "\n",
    "method = GA(pop_size=20,\n",
    "            sampling=IntegerRandomSampling(),\n",
    "            crossover=SBX(prob=1.0, eta=3.0, vtype=float, repair=RoundingRepair()),\n",
    "            mutation=PM(prob=1.0, eta=3.0, vtype=float, repair=RoundingRepair()),\n",
    "            eliminate_duplicates=True,\n",
    "            )\n",
    "\n",
    "res = minimize(problem,\n",
    "               method,\n",
    "               termination=('n_gen', 10),\n",
    "               seed=1,\n",
    "               save_history=True,\n",
    "               verbose=True\n",
    "               )\n",
    "\n",
    "print(\"Best solution found: %s\" % res.X)\n",
    "print(\"Function value: %s\" % res.F)\n",
    "print(\"Constraint violation: %s\" % res.CV)"
   ]
  },
  {
   "cell_type": "code",
   "execution_count": 34,
   "metadata": {},
   "outputs": [
    {
     "name": "stdout",
     "output_type": "stream",
     "text": [
      "[0.25  0.2   0.125 0.1   0.4   0.2   0.1   0.125 0.15  0.1   0.15  0.1   0.25  0.1   0.3   0.125 0.125 0.35  0.45  0.125 0.2   0.125 0.45  0.1   0.15  0.15  0.125 0.1   0.2   0.2   0.2   0.25  0.15  0.2   0.15  0.125 0.3   0.1   0.25  0.125 0.1   0.1   0.125 0.2   0.125 0.3   0.3   0.15  0.125\n",
      " 0.25  0.15  0.2   0.125 0.125 0.15  0.2   0.125 0.15  0.1   0.3   0.35  0.125 0.15  0.2   0.2   0.25  0.1   0.2   0.125 0.15  0.125 0.3   0.15  0.45  0.1   0.15  0.35  0.35  0.125 0.35  0.125 0.125 0.125 0.125 0.4   0.1   0.2   0.1   0.3   0.125 0.4   0.125 0.4   0.125 0.125 0.15  0.125 0.25\n",
      " 0.125 0.125 0.35  0.2   0.15  0.125 0.15  0.15  0.15  0.125 0.2   0.3   0.125 0.125 0.1   0.1   0.2   0.1   0.15  0.15  0.125 0.125 0.5   0.25  0.3   0.2   0.1   0.25  0.3   0.1   0.125 0.2   0.1   0.125 0.15  0.15  0.1   0.25  0.1   0.5   0.3   0.15  0.2   0.1   0.2   0.125 0.125 0.15  0.125\n",
      " 0.45  0.25  0.125 0.2   0.45  0.1   0.2   0.125 0.35  0.15  0.3   0.125 0.1   0.2   0.1   0.2   0.1   0.45  0.125 0.3   0.125 0.15  0.25  0.5   0.15  0.15  0.1   0.15  0.125 0.1   0.125 0.3   0.15  0.125 0.125 0.1   0.1   0.125 0.15  0.35  0.15  0.125 0.15  0.125 0.45  0.25  0.15  0.15  0.3\n",
      " 0.1   0.15  0.15  0.15  0.1   0.2   0.125 0.15  0.1   0.15  0.2   0.2   0.1   0.1   0.45  0.125 0.1   0.1   0.4   0.125 0.25  0.125 0.125 0.25  0.25  0.125 0.1   0.125 0.15  0.15  0.2   0.3   0.125 0.125 0.1   0.3   0.2   0.125 0.6   0.125 0.125 0.25  0.2   0.25  0.2   0.3   0.15  0.125 0.125\n",
      " 0.1   0.25  0.125 0.2   0.25  0.125 0.25  0.15  0.15  0.7   0.5   0.15  0.2   0.15  0.125 0.125 0.25  0.125 0.125 0.125 0.125 0.125 0.125 0.2   0.15  0.2   0.1   0.15  0.1   0.125 0.3   0.15  0.125 0.1   0.125 0.3   0.45  0.15  0.15  0.3   0.125 0.15  0.2   0.1   0.125 0.2   0.3   0.125 0.1\n",
      " 0.5   0.1   0.25  0.125 0.1   0.15  0.125 0.35  0.15  0.1   0.15  0.15  0.125 0.2   0.15  0.25  0.15  0.25  0.15  0.15  0.35  0.125 0.125]\n"
     ]
    }
   ],
   "source": [
    "optimal_diameters = transform_index_to_diameter([res.X], pipe_index)[0]*MM_TO_M\n",
    "print(optimal_diameters)"
   ]
  },
  {
   "cell_type": "code",
   "execution_count": 35,
   "metadata": {},
   "outputs": [],
   "source": [
    "# Modify the water network\n",
    "for j, pipe_name in enumerate(wn.pipe_name_list):\n",
    "    pipe = wn.get_link(pipe_name)\n",
    "    # Modify the water network \n",
    "    pipe.diameter = optimal_diameters[j]\n",
    "    \n",
    "#Simulate the individual\n",
    "sim = wntr.sim.EpanetSimulator(wn)\n",
    "results = sim.run_sim()"
   ]
  },
  {
   "cell_type": "code",
   "execution_count": 40,
   "metadata": {},
   "outputs": [
    {
     "data": {
      "text/html": [
       "<div>\n",
       "<style scoped>\n",
       "    .dataframe tbody tr th:only-of-type {\n",
       "        vertical-align: middle;\n",
       "    }\n",
       "\n",
       "    .dataframe tbody tr th {\n",
       "        vertical-align: top;\n",
       "    }\n",
       "\n",
       "    .dataframe thead th {\n",
       "        text-align: right;\n",
       "    }\n",
       "</style>\n",
       "<table border=\"1\" class=\"dataframe\">\n",
       "  <thead>\n",
       "    <tr style=\"text-align: right;\">\n",
       "      <th>name</th>\n",
       "      <th>1</th>\n",
       "      <th>2</th>\n",
       "      <th>3</th>\n",
       "      <th>4</th>\n",
       "      <th>5</th>\n",
       "      <th>6</th>\n",
       "      <th>7</th>\n",
       "      <th>8</th>\n",
       "      <th>9</th>\n",
       "      <th>10</th>\n",
       "      <th>...</th>\n",
       "      <th>263</th>\n",
       "      <th>264</th>\n",
       "      <th>265</th>\n",
       "      <th>266</th>\n",
       "      <th>267</th>\n",
       "      <th>268</th>\n",
       "      <th>269</th>\n",
       "      <th>270</th>\n",
       "      <th>271</th>\n",
       "      <th>272</th>\n",
       "    </tr>\n",
       "  </thead>\n",
       "  <tbody>\n",
       "    <tr>\n",
       "      <th>0</th>\n",
       "      <td>69.296555</td>\n",
       "      <td>68.453857</td>\n",
       "      <td>56.342484</td>\n",
       "      <td>28.684731</td>\n",
       "      <td>28.674543</td>\n",
       "      <td>25.809984</td>\n",
       "      <td>25.816547</td>\n",
       "      <td>26.053215</td>\n",
       "      <td>27.945078</td>\n",
       "      <td>28.866924</td>\n",
       "      <td>...</td>\n",
       "      <td>38.930859</td>\n",
       "      <td>68.099762</td>\n",
       "      <td>24.338295</td>\n",
       "      <td>26.369564</td>\n",
       "      <td>25.070389</td>\n",
       "      <td>23.667416</td>\n",
       "      <td>72.0</td>\n",
       "      <td>73.800003</td>\n",
       "      <td>73.0</td>\n",
       "      <td>74.5</td>\n",
       "    </tr>\n",
       "  </tbody>\n",
       "</table>\n",
       "<p>1 rows × 272 columns</p>\n",
       "</div>"
      ],
      "text/plain": [
       "name          1          2          3          4          5          6  \\\n",
       "0     69.296555  68.453857  56.342484  28.684731  28.674543  25.809984   \n",
       "\n",
       "name          7          8          9         10  ...        263        264  \\\n",
       "0     25.816547  26.053215  27.945078  28.866924  ...  38.930859  68.099762   \n",
       "\n",
       "name        265        266        267        268   269        270   271   272  \n",
       "0     24.338295  26.369564  25.070389  23.667416  72.0  73.800003  73.0  74.5  \n",
       "\n",
       "[1 rows x 272 columns]"
      ]
     },
     "execution_count": 40,
     "metadata": {},
     "output_type": "execute_result"
    }
   ],
   "source": [
    "results.node['head']"
   ]
  }
 ],
 "metadata": {
  "kernelspec": {
   "display_name": "venv_MUDE_Opt",
   "language": "python",
   "name": "python3"
  },
  "language_info": {
   "codemirror_mode": {
    "name": "ipython",
    "version": 3
   },
   "file_extension": ".py",
   "mimetype": "text/x-python",
   "name": "python",
   "nbconvert_exporter": "python",
   "pygments_lexer": "ipython3",
   "version": "3.10.2"
  },
  "orig_nbformat": 4
 },
 "nbformat": 4,
 "nbformat_minor": 2
}
