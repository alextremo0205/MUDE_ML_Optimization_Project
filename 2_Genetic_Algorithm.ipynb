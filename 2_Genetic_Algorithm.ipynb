{
 "cells": [
  {
   "cell_type": "markdown",
   "metadata": {},
   "source": [
    "# Genetic algorithm for Water Distribution Systems - Optimization project (2/2)"
   ]
  },
  {
   "cell_type": "markdown",
   "metadata": {},
   "source": [
    "**Objectives:**\n",
    "- Implement a genetic algorithm to find an appropriate solution for the optimization of a water distribution system.\n",
    "\n",
    "**Completition requirements:**\n",
    "\n",
    "By the end of this notebook, you should have:\n",
    "- Implemented all the code cells for:\n",
    "  - Defining the optimization problem\n",
    "  - Solving the optimization problem\n",
    "  - Analyzing the optimization problem\n",
    "- Answered all the questions"
   ]
  },
  {
   "cell_type": "markdown",
   "metadata": {},
   "source": [
    "## 📔 Libraries\n",
    "\n",
    "<!-- \n",
    "# If you have not installed pytorch geometric uncomment the following lines to install it\n",
    "\n",
    "# !pip install -q torch-scatter -f https://data.pyg.org/whl/torch-${TORCH}.html\n",
    "# !pip install -q torch-sparse -f https://data.pyg.org/whl/torch-${TORCH}.html\n",
    "# !pip install -q git+https://github.com/pyg-team/pytorch_geometric.git\n",
    "\n",
    "# !pip install wntr -->"
   ]
  },
  {
   "cell_type": "markdown",
   "metadata": {},
   "source": [
    "To run this notebook you need to have installed the following packages:\n",
    "- Pandas\n",
    "- Numpy\n",
    "- Matplotlib\n",
    "- WNTR\n",
    "- PyMOO"
   ]
  },
  {
   "cell_type": "code",
   "execution_count": 1,
   "metadata": {},
   "outputs": [],
   "source": [
    "import numpy as np\n",
    "import matplotlib.pyplot as plt\n",
    "\n",
    "#Library for analysis of Water distribution networks\n",
    "import wntr\n",
    "\n",
    "#Genetic algorithm dependencies\n",
    "from pymoo.algorithms.soo.nonconvex.ga import GA\n",
    "from pymoo.operators.crossover.sbx import SBX\n",
    "from pymoo.operators.mutation.pm import PM\n",
    "from pymoo.operators.repair.rounding import RoundingRepair\n",
    "from pymoo.core.problem import Problem\n",
    "from pymoo.optimize import minimize\n",
    "from pymoo.operators.sampling.rnd import IntegerRandomSampling"
   ]
  },
  {
   "cell_type": "markdown",
   "metadata": {},
   "source": [
    "## 🔙 Background"
   ]
  },
  {
   "cell_type": "markdown",
   "metadata": {},
   "source": [
    "### 💧 Water distribution systems"
   ]
  },
  {
   "cell_type": "markdown",
   "metadata": {},
   "source": [
    "As cities grow, so does the challenge of getting water to everyone efficiently. Imagine a giant puzzle where water has to travel from its source, like a reservoir, to homes, stores, and factories. This puzzle gets even trickier in cities because there are many more places that need water, and we need to make sure that if one part of the system breaks, others are still connected. That is why we have looped systems as the one in Figure 1.\n",
    "\n",
    "However, figuring out the best way to design these water networks is a real challenge. Using the methods we learned before, like linear programming, isn't practical anymore. We need a different approach.\n",
    "\n",
    "In this assignment, we're going to use a genetic algorithm to address this problem. In order to reduce some complexity of the problem, each pipe line will have only one diameter. This makes facilitates the problem; however, there is still an enourmous amount of possibilities to consider.\n",
    "\n",
    "To help us calculate the hydraulics in the system, we'll use a numerical model for calculating the pressure for all the nodes. This model will help us understand how much pressure there is at different points in the water network. By figuring this out, we can create a system that reliably delivers water to every corner of the city."
   ]
  },
  {
   "cell_type": "markdown",
   "metadata": {},
   "source": [
    "<div>\n",
    "<center><img src=\"./Images/Modena.png\" width=\"600\"/></center>\n",
    "</div>\n",
    "\n",
    "Figure 1. Numerical results for the water distribution system in the city of Modena, Italy."
   ]
  },
  {
   "cell_type": "markdown",
   "metadata": {},
   "source": [
    "### 🖥Numerical model"
   ]
  },
  {
   "cell_type": "markdown",
   "metadata": {},
   "source": [
    "The Water Network Tool for Resilience (WNTR) is a powerful and flexible Python library designed for modeling, simulating, and analyzing water distribution systems. WNTR is based upon EPANET, which is a widely used software tool for simulating and analyzing water distribution systems. It plays a crucial role in the management and design of water distribution networks by enabling engineers and researchers to model, simulate, and optimize the complex interactions within these systems.\n",
    "\n",
    "In this notebook, we are going to use this library to compute the pressures at the nodes given diverse configurations of diameters."
   ]
  },
  {
   "cell_type": "markdown",
   "metadata": {},
   "source": [
    "<div style=\"display: flex;\">\n",
    "<center>\n",
    "    <img src=\"./Images/Epanet_Logo.png\" alt=\"Image 1\" style=\"width: 18%; height: auto;\">\n",
    "    <img src=\"./Images/wntr_logo.webp\" alt=\"Image 2\" style=\"width: 50%; height: auto;\">\n",
    "</center>\n",
    "</div>\n",
    "Figure 2. EPANET and WNTR logos.\n",
    "\n"
   ]
  },
  {
   "cell_type": "markdown",
   "metadata": {},
   "source": [
    "### 🧬Genetic algorithm"
   ]
  },
  {
   "cell_type": "markdown",
   "metadata": {},
   "source": [
    "Genetic Algorithms (GAs) are powerful optimization techniques inspired by the process of natural evolution. They have gained prominence in solving complex problems across various fields, ranging from engineering and economics to artificial intelligence. Here, we give a brief overview of Genetic Algorithms, highlighting their fundamental principles, components, and applications in solving optimization problems.\n",
    "\n",
    "At the heart of a Genetic Algorithm are populations of potential solutions, represented as individuals or chromosomes. These individuals evolve over generations to improve their fitness with respect to the given optimization objective.\n",
    "\n",
    "Basic Components of a Genetic Algorithm:\n",
    "- **Population**: A collection of individuals representing potential solutions to the problem.\n",
    "- **Fitness** Function: Quantifies the quality of each individual's solution with respect to the optimization objective.\n",
    "- **Selection**: Individuals are chosen based on their fitness to serve as parents for the next generation.\n",
    "- **Crossover**: Genetic material from parents is combined to create offspring with potentially improved traits.\n",
    "- **Mutation**: Random changes are introduced in offspring to maintain diversity and explore new solution spaces.\n",
    "- **Replacement**: New offspring replace some of the least fit individuals in the population.\n",
    "- **Termination Criteria**: Conditions under which the algorithm stops, e.g., a maximum number of generations or satisfactory fitness level."
   ]
  },
  {
   "cell_type": "markdown",
   "metadata": {},
   "source": [
    "Working Principle:\n",
    "\n",
    "- **Initialization**: A population of random individuals is generated to start the algorithm.\n",
    "- **Evaluation**: The fitness function assesses the quality of each individual's solution.\n",
    "- **Selection**: Individuals with higher fitness have a higher chance of being selected as parents.\n",
    "- **Crossover**: Genetic material from selected parents is combined to create offspring.\n",
    "- **Mutation**: Random changes are introduced to some offspring to maintain diversity.\n",
    "- **Replacement**: New offspring replace some individuals in the population.\n",
    "- **Termination**: The algorithm stops when a termination criterion is met."
   ]
  },
  {
   "cell_type": "markdown",
   "metadata": {},
   "source": [
    "#### PyMOO Library"
   ]
  },
  {
   "cell_type": "markdown",
   "metadata": {},
   "source": [
    "PyMOO is a Python library that provides a comprehensive and easy-to-use framework for multi-objective optimization (MOO). For this case, we are going to deal with only one objective; nevertheless, this is an useful tool if you have more objectives. In addition, PyMOO easily allows us to define our optimization problem by specifying the objectives, constraints, and decision variables"
   ]
  },
  {
   "cell_type": "markdown",
   "metadata": {},
   "source": [
    "## ⛔ Problem definition "
   ]
  },
  {
   "cell_type": "markdown",
   "metadata": {},
   "source": [
    "The problem is to find the pipe diameters that minimize the cost of the pipe lines while satisfying the customer demand for water usage and supply pressure. \n",
    "\n",
    "<!-- For this application, we will only consider systems feed by reservoirs that work via gravity. -->"
   ]
  },
  {
   "cell_type": "markdown",
   "metadata": {},
   "source": [
    "### 🎯 Objective function"
   ]
  },
  {
   "cell_type": "markdown",
   "metadata": {},
   "source": [
    "We want to minimize the cost of the pipes. Each pipe has a different cost according to its diameter and its length. Generally, the larger the pipe, the more expensive it is. \n",
    "\n",
    "We can define the total cost $Z$ of installing all the pipes as the following function\n",
    "$$\n",
    "\\begin{align}\n",
    "  & min Z = \\sum_{j=1}^{N}C_{j}\\sum_{i=1}^{M} L_{ij}\\\\\n",
    "\\end{align}\n",
    "$$ (eq_cost_function)\n",
    "\n",
    "where $C_{j}$ is the cost of pipe per meter-length having diameter $j$."
   ]
  },
  {
   "cell_type": "markdown",
   "metadata": {},
   "source": [
    "### 🚫 Restrictions"
   ]
  },
  {
   "cell_type": "markdown",
   "metadata": {},
   "source": [
    "We consider one main restriction.\n",
    "\n",
    "1) The water should arrive at the consumer nodes with sufficient pressure. This is, there should be sufficient energy for transporting the water from the source to each of nodes. This restriction can be written as\n",
    "\n",
    "$$\n",
    "\\sum_{i=1}^{N} H_{i} \\leq H^{*} \n",
    "$$\n",
    "\n",
    "<!-- \\; \\text{for every node i in the system.} -->"
   ]
  },
  {
   "cell_type": "markdown",
   "metadata": {},
   "source": [
    "## 💻 Genetic algorithm - Example"
   ]
  },
  {
   "cell_type": "markdown",
   "metadata": {},
   "source": [
    "We exemplify the implementation of these algorithms with the system \"Two loop network (TLN)\". This system consists of one reservoir, six demand nodes and eight pipes organised in two loops. The reservoir has a constant head fixed at 210 m. As a hypothetical network all pipes have the same length (1000 m). The pressure is set to be at least 30.0 m at all demand nodes. The following table shows commercially available diameters and the corresponding unit costs (1 in.=0.0254 m). \n",
    "\n",
    "| Diameter [in] | 1    | 2    | 3    | 4    | 6    | 8    | 10   | 12   | 14   | 16   | 18   | 20   | 22   | 24   |\n",
    "|-------------------|------|------|------|------|------|------|------|------|------|------|------|------|------|------|\n",
    "| Cost per meter [€/m] | 2    | 5    | 8    | 11   | 16   | 23   | 32   | 50   | 60   | 90   | 130  | 170  | 300  | 500  |\n",
    "\n",
    "\n",
    "<!-- and the Hazen-Williams coefficient of 130. -->"
   ]
  },
  {
   "cell_type": "markdown",
   "metadata": {},
   "source": [
    "<div>\n",
    "<center><img src=\"./Images/TLN_image.png\" width=\"300\"/></center>\n",
    "</div>\n"
   ]
  },
  {
   "cell_type": "markdown",
   "metadata": {},
   "source": [
    "First, let's define some preliminary variables and functions that are going to be used later."
   ]
  },
  {
   "cell_type": "code",
   "execution_count": 2,
   "metadata": {},
   "outputs": [],
   "source": [
    "IN_TO_M = 0.0254\n",
    "\n",
    "cost_function_diameter_inches = {\n",
    "    1: 2,\n",
    "    2: 5,\n",
    "    3: 8,\n",
    "    4: 11,\n",
    "    6: 16,\n",
    "    8: 23,\n",
    "    10: 32,\n",
    "    12: 50,\n",
    "    14: 60,\n",
    "    16: 90,\n",
    "    18: 130,\n",
    "    20: 170,\n",
    "    22: 300,\n",
    "    24: 500\n",
    "}\n",
    "\n",
    "pipe_index = {\n",
    "    0:1,\n",
    "    1:2,\n",
    "    2:3,\n",
    "    3:4,\n",
    "    4:6,\n",
    "    5:8,\n",
    "    6:10,\n",
    "    7:12,\n",
    "    8:14,\n",
    "    9:16,\n",
    "    10:18,\n",
    "    11:20,\n",
    "    12:22,\n",
    "    13:24\n",
    "    }\n",
    "\n",
    "H_star = 20\n",
    "\n",
    "def transform_index_to_diameter(matrix_indexes, pipe_index):\n",
    "    return np.array([[pipe_index[j] for j in vector_indexes] for vector_indexes in matrix_indexes])\n",
    "\n",
    "def transform_diameter_to_cost(matrix_indexes, pipe_index):\n",
    "    return np.array([[pipe_index[j] for j in vector_indexes] for vector_indexes in matrix_indexes])"
   ]
  },
  {
   "cell_type": "markdown",
   "metadata": {},
   "source": [
    "Here, we use the WNTR library to load the data from TLN. This creates the variable **wn** which stores all the information about the nodes, pipes, reservoirs and other components of the water network."
   ]
  },
  {
   "cell_type": "code",
   "execution_count": 3,
   "metadata": {},
   "outputs": [
    {
     "data": {
      "image/png": "[encoded data removed]",
      "text/plain": [
       "<Figure size 640x480 with 1 Axes>"
      ]
     },
     "metadata": {},
     "output_type": "display_data"
    },
    {
     "data": {
      "text/plain": [
       "<Axes: title={'center': 'TLN.inp'}>"
      ]
     },
     "execution_count": 3,
     "metadata": {},
     "output_type": "execute_result"
    }
   ],
   "source": [
    "# Create a water network model\n",
    "inp_file = 'TLN.inp'\n",
    "wn = wntr.network.WaterNetworkModel(inp_file)\n",
    "wn.options.hydraulic.demand_model = 'PDD'\n",
    "# Graph the network\n",
    "wntr.graphics.plot_network(wn, title=wn.name)"
   ]
  },
  {
   "cell_type": "markdown",
   "metadata": {},
   "source": [
    "Here, we use the PyMOO library to define and solve the optimization problem."
   ]
  },
  {
   "cell_type": "code",
   "execution_count": 15,
   "metadata": {},
   "outputs": [],
   "source": [
    "#Problem definition:\n",
    "population_size = 20\n",
    "class TwoLoopOptimization(Problem):\n",
    "    def __init__(self):\n",
    "        #Here, we indicate that our problem has:\n",
    "        super().__init__(n_var=8,        #8 decision variables (one diameter per pipe)\n",
    "                         n_obj=1,        #1 objective\n",
    "                         n_ieq_constr=6, #6 inequality constraints\n",
    "                         xl=0.0,         #0 as beginning index to search\n",
    "                         xu=13.0,        #13 as final index to search\n",
    "                         vtype=int)      #integer as type of variable \n",
    "        \n",
    "\n",
    "    def _evaluate(self, x, out, *args, **kwargs):\n",
    "        #x contains a population of all individuals (proposed solutions)\n",
    "        #Here we map the indexes of each individual to the corresponding pipes\n",
    "        new_x = transform_index_to_diameter(x, pipe_index)\n",
    "        pressure_heads   = np.zeros((population_size, 6))\n",
    "        individual_costs = np.zeros((population_size,1))\n",
    "        \n",
    "        #In here, for each individual of the population, we run the numerical simulation\n",
    "        for i, individual in enumerate(new_x):\n",
    "            cost = 0\n",
    "            #First, we modify the pipes\n",
    "            for j, pipe_name in enumerate(wn.pipe_name_list):\n",
    "                pipe = wn.get_link(pipe_name)\n",
    "                # Modify the water network \n",
    "                pipe.diameter = individual[j] * IN_TO_M\n",
    "                # Calculate the cost of the network\n",
    "                cost += cost_function_diameter_inches[individual[j]] * pipe.length\n",
    "            \n",
    "            individual_costs[i] = cost\n",
    "\n",
    "            #Simulate the water network with the modified individual\n",
    "            sim = wntr.sim.EpanetSimulator(wn)\n",
    "            results = sim.run_sim()\n",
    "\n",
    "            pressure_heads[i,:]= results.node['head'].values[0][:-1]\n",
    "        \n",
    "        out[\"F\"] = individual_costs          #In F, we store the objective function\n",
    "        out[\"G\"] = -(pressure_heads - H_star)#In G, we store the restrictions, notice the minus sign as the restrictions are all in the form G <= 0\n",
    "\n",
    "\n"
   ]
  },
  {
   "cell_type": "code",
   "execution_count": 16,
   "metadata": {},
   "outputs": [
    {
     "name": "stdout",
     "output_type": "stream",
     "text": [
      "=================================================================================\n",
      "n_gen  |  n_eval  |     cv_min    |     cv_avg    |     f_avg     |     f_min    \n",
      "=================================================================================\n",
      "     1 |       20 |  0.000000E+00 |  3.386952E+06 |  9.832500E+05 |  8.010000E+05\n",
      "     2 |       40 |  0.000000E+00 |  1.873198E+02 |  1.087500E+06 |  8.010000E+05\n",
      "     3 |       60 |  0.000000E+00 |  0.000000E+00 |  8.991500E+05 |  5.610000E+05\n",
      "     4 |       80 |  0.000000E+00 |  0.000000E+00 |  7.277500E+05 |  4.080000E+05\n",
      "     5 |      100 |  0.000000E+00 |  0.000000E+00 |  5.905000E+05 |  4.080000E+05\n",
      "     6 |      120 |  0.000000E+00 |  0.000000E+00 |  5.081500E+05 |  3.350000E+05\n",
      "     7 |      140 |  0.000000E+00 |  0.000000E+00 |  4.708500E+05 |  3.350000E+05\n",
      "     8 |      160 |  0.000000E+00 |  0.000000E+00 |  4.198000E+05 |  3.350000E+05\n",
      "     9 |      180 |  0.000000E+00 |  0.000000E+00 |  3.816000E+05 |  3.350000E+05\n",
      "    10 |      200 |  0.000000E+00 |  0.000000E+00 |  3.601500E+05 |  3.330000E+05\n",
      "    11 |      220 |  0.000000E+00 |  0.000000E+00 |  3.386000E+05 |  3.100000E+05\n",
      "    12 |      240 |  0.000000E+00 |  0.000000E+00 |  3.267000E+05 |  2.950000E+05\n",
      "    13 |      260 |  0.000000E+00 |  0.000000E+00 |  3.239000E+05 |  2.950000E+05\n",
      "    14 |      280 |  0.000000E+00 |  0.000000E+00 |  3.178000E+05 |  2.910000E+05\n",
      "    15 |      300 |  0.000000E+00 |  0.000000E+00 |  3.159000E+05 |  2.910000E+05\n",
      "    16 |      320 |  0.000000E+00 |  0.000000E+00 |  3.061000E+05 |  2.450000E+05\n",
      "    17 |      340 |  0.000000E+00 |  0.000000E+00 |  2.951000E+05 |  2.450000E+05\n",
      "    18 |      360 |  0.000000E+00 |  0.000000E+00 |  2.834500E+05 |  2.290000E+05\n",
      "    19 |      380 |  0.000000E+00 |  0.000000E+00 |  2.744500E+05 |  2.230000E+05\n",
      "    20 |      400 |  0.000000E+00 |  0.000000E+00 |  2.608000E+05 |  2.130000E+05\n",
      "    21 |      420 |  0.000000E+00 |  0.000000E+00 |  2.470000E+05 |  2.040000E+05\n",
      "    22 |      440 |  0.000000E+00 |  0.000000E+00 |  2.289000E+05 |  2.030000E+05\n",
      "    23 |      460 |  0.000000E+00 |  0.000000E+00 |  2.169500E+05 |  2.010000E+05\n",
      "    24 |      480 |  0.000000E+00 |  0.000000E+00 |  2.107500E+05 |  1.970000E+05\n",
      "    25 |      500 |  0.000000E+00 |  0.000000E+00 |  2.046500E+05 |  1.910000E+05\n",
      "    26 |      520 |  0.000000E+00 |  0.000000E+00 |  2.028500E+05 |  1.910000E+05\n",
      "    27 |      540 |  0.000000E+00 |  0.000000E+00 |  2.020000E+05 |  1.910000E+05\n",
      "    28 |      560 |  0.000000E+00 |  0.000000E+00 |  2.011500E+05 |  1.910000E+05\n",
      "    29 |      580 |  0.000000E+00 |  0.000000E+00 |  2.003500E+05 |  1.910000E+05\n",
      "    30 |      600 |  0.000000E+00 |  0.000000E+00 |  2.000000E+05 |  1.910000E+05\n",
      "    31 |      620 |  0.000000E+00 |  0.000000E+00 |  2.000000E+05 |  1.910000E+05\n",
      "    32 |      640 |  0.000000E+00 |  0.000000E+00 |  1.980500E+05 |  1.820000E+05\n",
      "    33 |      660 |  0.000000E+00 |  0.000000E+00 |  1.968500E+05 |  1.820000E+05\n",
      "    34 |      680 |  0.000000E+00 |  0.000000E+00 |  1.957500E+05 |  1.820000E+05\n",
      "    35 |      700 |  0.000000E+00 |  0.000000E+00 |  1.955500E+05 |  1.820000E+05\n",
      "    36 |      720 |  0.000000E+00 |  0.000000E+00 |  1.950000E+05 |  1.820000E+05\n",
      "    37 |      740 |  0.000000E+00 |  0.000000E+00 |  1.950000E+05 |  1.820000E+05\n",
      "    38 |      760 |  0.000000E+00 |  0.000000E+00 |  1.939500E+05 |  1.820000E+05\n",
      "    39 |      780 |  0.000000E+00 |  0.000000E+00 |  1.928500E+05 |  1.820000E+05\n",
      "    40 |      800 |  0.000000E+00 |  0.000000E+00 |  1.927000E+05 |  1.820000E+05\n",
      "    41 |      820 |  0.000000E+00 |  0.000000E+00 |  1.922000E+05 |  1.820000E+05\n",
      "    42 |      840 |  0.000000E+00 |  0.000000E+00 |  1.911000E+05 |  1.820000E+05\n",
      "    43 |      860 |  0.000000E+00 |  0.000000E+00 |  1.906000E+05 |  1.820000E+05\n",
      "    44 |      880 |  0.000000E+00 |  0.000000E+00 |  1.906000E+05 |  1.820000E+05\n",
      "    45 |      900 |  0.000000E+00 |  0.000000E+00 |  1.899000E+05 |  1.820000E+05\n",
      "    46 |      920 |  0.000000E+00 |  0.000000E+00 |  1.888500E+05 |  1.820000E+05\n",
      "    47 |      940 |  0.000000E+00 |  0.000000E+00 |  1.887500E+05 |  1.820000E+05\n",
      "    48 |      960 |  0.000000E+00 |  0.000000E+00 |  1.876500E+05 |  1.800000E+05\n",
      "    49 |      980 |  0.000000E+00 |  0.000000E+00 |  1.865500E+05 |  1.770000E+05\n",
      "    50 |     1000 |  0.000000E+00 |  0.000000E+00 |  1.865500E+05 |  1.770000E+05\n",
      "    51 |     1020 |  0.000000E+00 |  0.000000E+00 |  1.864500E+05 |  1.770000E+05\n",
      "    52 |     1040 |  0.000000E+00 |  0.000000E+00 |  1.862000E+05 |  1.770000E+05\n",
      "    53 |     1060 |  0.000000E+00 |  0.000000E+00 |  1.862000E+05 |  1.770000E+05\n",
      "    54 |     1080 |  0.000000E+00 |  0.000000E+00 |  1.862000E+05 |  1.770000E+05\n",
      "    55 |     1100 |  0.000000E+00 |  0.000000E+00 |  1.862000E+05 |  1.770000E+05\n",
      "    56 |     1120 |  0.000000E+00 |  0.000000E+00 |  1.859500E+05 |  1.770000E+05\n",
      "    57 |     1140 |  0.000000E+00 |  0.000000E+00 |  1.858500E+05 |  1.770000E+05\n",
      "    58 |     1160 |  0.000000E+00 |  0.000000E+00 |  1.856500E+05 |  1.770000E+05\n",
      "    59 |     1180 |  0.000000E+00 |  0.000000E+00 |  1.856500E+05 |  1.770000E+05\n",
      "    60 |     1200 |  0.000000E+00 |  0.000000E+00 |  1.851500E+05 |  1.770000E+05\n",
      "    61 |     1220 |  0.000000E+00 |  0.000000E+00 |  1.851500E+05 |  1.770000E+05\n",
      "    62 |     1240 |  0.000000E+00 |  0.000000E+00 |  1.851500E+05 |  1.770000E+05\n",
      "    63 |     1260 |  0.000000E+00 |  0.000000E+00 |  1.851500E+05 |  1.770000E+05\n",
      "    64 |     1280 |  0.000000E+00 |  0.000000E+00 |  1.851500E+05 |  1.770000E+05\n",
      "    65 |     1300 |  0.000000E+00 |  0.000000E+00 |  1.851500E+05 |  1.770000E+05\n",
      "    66 |     1320 |  0.000000E+00 |  0.000000E+00 |  1.849500E+05 |  1.770000E+05\n",
      "    67 |     1340 |  0.000000E+00 |  0.000000E+00 |  1.846500E+05 |  1.770000E+05\n",
      "    68 |     1360 |  0.000000E+00 |  0.000000E+00 |  1.846500E+05 |  1.770000E+05\n",
      "    69 |     1380 |  0.000000E+00 |  0.000000E+00 |  1.842000E+05 |  1.770000E+05\n",
      "    70 |     1400 |  0.000000E+00 |  0.000000E+00 |  1.842000E+05 |  1.770000E+05\n",
      "    71 |     1420 |  0.000000E+00 |  0.000000E+00 |  1.840500E+05 |  1.770000E+05\n",
      "    72 |     1440 |  0.000000E+00 |  0.000000E+00 |  1.840500E+05 |  1.770000E+05\n",
      "    73 |     1460 |  0.000000E+00 |  0.000000E+00 |  1.840500E+05 |  1.770000E+05\n",
      "    74 |     1480 |  0.000000E+00 |  0.000000E+00 |  1.840500E+05 |  1.770000E+05\n",
      "    75 |     1500 |  0.000000E+00 |  0.000000E+00 |  1.837500E+05 |  1.770000E+05\n",
      "    76 |     1520 |  0.000000E+00 |  0.000000E+00 |  1.837500E+05 |  1.770000E+05\n",
      "    77 |     1540 |  0.000000E+00 |  0.000000E+00 |  1.834500E+05 |  1.770000E+05\n",
      "    78 |     1560 |  0.000000E+00 |  0.000000E+00 |  1.834500E+05 |  1.770000E+05\n",
      "    79 |     1580 |  0.000000E+00 |  0.000000E+00 |  1.832500E+05 |  1.770000E+05\n",
      "    80 |     1600 |  0.000000E+00 |  0.000000E+00 |  1.832500E+05 |  1.770000E+05\n",
      "    81 |     1620 |  0.000000E+00 |  0.000000E+00 |  1.832500E+05 |  1.770000E+05\n",
      "    82 |     1640 |  0.000000E+00 |  0.000000E+00 |  1.832500E+05 |  1.770000E+05\n",
      "    83 |     1660 |  0.000000E+00 |  0.000000E+00 |  1.831500E+05 |  1.770000E+05\n",
      "    84 |     1680 |  0.000000E+00 |  0.000000E+00 |  1.831500E+05 |  1.770000E+05\n",
      "    85 |     1700 |  0.000000E+00 |  0.000000E+00 |  1.831500E+05 |  1.770000E+05\n",
      "    86 |     1720 |  0.000000E+00 |  0.000000E+00 |  1.831500E+05 |  1.770000E+05\n",
      "    87 |     1740 |  0.000000E+00 |  0.000000E+00 |  1.831500E+05 |  1.770000E+05\n",
      "    88 |     1760 |  0.000000E+00 |  0.000000E+00 |  1.831500E+05 |  1.770000E+05\n",
      "    89 |     1780 |  0.000000E+00 |  0.000000E+00 |  1.829500E+05 |  1.770000E+05\n",
      "    90 |     1800 |  0.000000E+00 |  0.000000E+00 |  1.829500E+05 |  1.770000E+05\n",
      "    91 |     1820 |  0.000000E+00 |  0.000000E+00 |  1.829500E+05 |  1.770000E+05\n",
      "    92 |     1840 |  0.000000E+00 |  0.000000E+00 |  1.829500E+05 |  1.770000E+05\n",
      "    93 |     1860 |  0.000000E+00 |  0.000000E+00 |  1.829500E+05 |  1.770000E+05\n",
      "    94 |     1880 |  0.000000E+00 |  0.000000E+00 |  1.828500E+05 |  1.770000E+05\n",
      "    95 |     1900 |  0.000000E+00 |  0.000000E+00 |  1.828500E+05 |  1.770000E+05\n",
      "    96 |     1920 |  0.000000E+00 |  0.000000E+00 |  1.828500E+05 |  1.770000E+05\n",
      "    97 |     1940 |  0.000000E+00 |  0.000000E+00 |  1.828500E+05 |  1.770000E+05\n",
      "    98 |     1960 |  0.000000E+00 |  0.000000E+00 |  1.828500E+05 |  1.770000E+05\n",
      "    99 |     1980 |  0.000000E+00 |  0.000000E+00 |  1.828500E+05 |  1.770000E+05\n",
      "   100 |     2000 |  0.000000E+00 |  0.000000E+00 |  1.828500E+05 |  1.770000E+05\n",
      "Best solution found: [7 3 7 4 5 5 0 0]\n",
      "Function value: [177000.]\n",
      "Constraint violation: [0.]\n"
     ]
    }
   ],
   "source": [
    "problem = TwoLoopOptimization()\n",
    "\n",
    "method = GA(pop_size=population_size,\n",
    "            sampling=IntegerRandomSampling(),\n",
    "            crossover=SBX(prob=1.0, eta=3.0, vtype=float, repair=RoundingRepair()),\n",
    "            mutation=PM(prob=1.0, eta=3.0, vtype=float, repair=RoundingRepair()),\n",
    "            eliminate_duplicates=True,\n",
    "            )\n",
    "\n",
    "res = minimize(problem,\n",
    "               method,\n",
    "               termination=('n_gen', 100),\n",
    "               seed=1,\n",
    "               save_history=True,\n",
    "               verbose=True,\n",
    "               )\n",
    "\n",
    "print(\"Best solution found: %s\" % res.X)\n",
    "print(\"Function value: %s\" % res.F)\n",
    "print(\"Constraint violation: %s\" % res.CV)"
   ]
  },
  {
   "cell_type": "code",
   "execution_count": 28,
   "metadata": {},
   "outputs": [],
   "source": [
    "n_evals = []             # corresponding number of function evaluations\n",
    "hist_F = []              # the objective space values in each generation\n",
    "\n",
    "for algo in res.history:\n",
    "\n",
    "    # store the number of function evaluations\n",
    "    n_evals.append(algo.evaluator.n_eval)\n",
    "\n",
    "    # retrieve the optimum from the algorithm\n",
    "    opt = algo.opt\n",
    "\n",
    "    # filter out only the feasible and append and objective space values\n",
    "    feas = np.where(opt.get(\"feasible\"))[0]\n",
    "    hist_F.append(opt.get(\"F\")[feas][0][0])"
   ]
  },
  {
   "cell_type": "code",
   "execution_count": 32,
   "metadata": {},
   "outputs": [
    {
     "data": {
      "image/png": "[encoded data removed]",
      "text/plain": [
       "<Figure size 800x600 with 1 Axes>"
      ]
     },
     "metadata": {},
     "output_type": "display_data"
    }
   ],
   "source": [
    "\n",
    "# Create a scatter plot with enhanced styling\n",
    "plt.figure(figsize=(8, 6))  # Set the figure size\n",
    "\n",
    "# Create a scatter plot\n",
    "plt.scatter(n_evals, hist_F, label='Best objective function', color='blue', marker='o', s=100, alpha=0.7, edgecolors='black', linewidths=1.5)\n",
    "\n",
    "# Add labels and a legend with improved formatting\n",
    "plt.xlabel('Function evaluations', fontsize=14, fontweight='bold')\n",
    "plt.ylabel('Cost', fontsize=14, fontweight='bold')\n",
    "plt.title('Best solution evolution', fontsize=16, fontweight='bold')\n",
    "plt.legend(loc='upper right', fontsize=12)\n",
    "\n",
    "# Customize the grid appearance\n",
    "plt.grid(True, linestyle='--', alpha=0.5)\n",
    "\n",
    "# Customize the tick labels\n",
    "plt.xticks(fontsize=12)\n",
    "plt.yticks(fontsize=12)\n",
    "\n",
    "# Add a background color to the plot\n",
    "plt.gca().set_facecolor('#f2f2f2')\n",
    "\n",
    "# Show the plot with improved aesthetics\n",
    "plt.show()\n"
   ]
  },
  {
   "cell_type": "markdown",
   "metadata": {},
   "source": [
    "Evaluate best solution"
   ]
  },
  {
   "cell_type": "code",
   "execution_count": 33,
   "metadata": {},
   "outputs": [
    {
     "name": "stdout",
     "output_type": "stream",
     "text": [
      "[0.305 0.102 0.305 0.152 0.203 0.203 0.025 0.025]\n"
     ]
    }
   ],
   "source": [
    "optimal_diameters = transform_index_to_diameter([res.X], pipe_index)[0]*IN_TO_M\n",
    "print(optimal_diameters)"
   ]
  },
  {
   "cell_type": "code",
   "execution_count": 34,
   "metadata": {},
   "outputs": [],
   "source": [
    "# Modify the water network\n",
    "for j, pipe_name in enumerate(wn.pipe_name_list):\n",
    "    pipe = wn.get_link(pipe_name)\n",
    "    # Modify the water network \n",
    "    pipe.diameter = optimal_diameters[j]"
   ]
  },
  {
   "cell_type": "code",
   "execution_count": 35,
   "metadata": {},
   "outputs": [],
   "source": [
    "sim = wntr.sim.EpanetSimulator(wn)\n",
    "results = sim.run_sim()"
   ]
  },
  {
   "cell_type": "code",
   "execution_count": 36,
   "metadata": {},
   "outputs": [
    {
     "data": {
      "text/html": [
       "<div>\n",
       "<style scoped>\n",
       "    .dataframe tbody tr th:only-of-type {\n",
       "        vertical-align: middle;\n",
       "    }\n",
       "\n",
       "    .dataframe tbody tr th {\n",
       "        vertical-align: top;\n",
       "    }\n",
       "\n",
       "    .dataframe thead th {\n",
       "        text-align: right;\n",
       "    }\n",
       "</style>\n",
       "<table border=\"1\" class=\"dataframe\">\n",
       "  <thead>\n",
       "    <tr style=\"text-align: right;\">\n",
       "      <th>name</th>\n",
       "      <th>2</th>\n",
       "      <th>3</th>\n",
       "      <th>4</th>\n",
       "      <th>5</th>\n",
       "      <th>6</th>\n",
       "      <th>7</th>\n",
       "      <th>1</th>\n",
       "    </tr>\n",
       "  </thead>\n",
       "  <tbody>\n",
       "    <tr>\n",
       "      <th>0</th>\n",
       "      <td>161.330154</td>\n",
       "      <td>42.258331</td>\n",
       "      <td>127.585281</td>\n",
       "      <td>25.984467</td>\n",
       "      <td>39.888126</td>\n",
       "      <td>25.474693</td>\n",
       "      <td>210.0</td>\n",
       "    </tr>\n",
       "  </tbody>\n",
       "</table>\n",
       "</div>"
      ],
      "text/plain": [
       "name           2          3           4          5          6          7  \\\n",
       "0     161.330154  42.258331  127.585281  25.984467  39.888126  25.474693   \n",
       "\n",
       "name      1  \n",
       "0     210.0  "
      ]
     },
     "execution_count": 36,
     "metadata": {},
     "output_type": "execute_result"
    }
   ],
   "source": [
    "results.node['head']"
   ]
  },
  {
   "cell_type": "markdown",
   "metadata": {},
   "source": [
    "## 🏋🏽‍♀️ Exercise: Genetic algorithm"
   ]
  },
  {
   "cell_type": "markdown",
   "metadata": {},
   "source": [
    "| Diameter [mm] |   100 |   125 |   150 |   200 |   250 |   300 |   350 |   400 |   450 |   500 |   600 |   700 |   800 |\n",
    "|--------------:|------:|------:|------:|------:|------:|------:|------:|------:|------:|------:|------:|------:|------:|\n",
    "| Cost per meter [€/m] |  27.7 |  38.0 |  40.5 |  55.4 |  75.0 |  92.4 | 123.1 | 141.9 | 169.3 | 191.5 | 246.0 | 319.6 | 391.1 |\n"
   ]
  },
  {
   "cell_type": "markdown",
   "metadata": {},
   "source": [
    "WNTR"
   ]
  },
  {
   "cell_type": "code",
   "execution_count": 37,
   "metadata": {},
   "outputs": [
    {
     "data": {
      "image/png": "[encoded data removed]",
      "text/plain": [
       "<Figure size 640x480 with 1 Axes>"
      ]
     },
     "metadata": {},
     "output_type": "display_data"
    },
    {
     "data": {
      "text/plain": [
       "<Axes: title={'center': 'MOD.inp'}>"
      ]
     },
     "execution_count": 37,
     "metadata": {},
     "output_type": "execute_result"
    }
   ],
   "source": [
    "# Create a water network model\n",
    "inp_file = 'MOD.inp'\n",
    "wn = wntr.network.WaterNetworkModel(inp_file)\n",
    "wn.options.hydraulic.demand_model = 'PDD'\n",
    "\n",
    "# Graph the network\n",
    "wntr.graphics.plot_network(wn, title=wn.name)\n"
   ]
  },
  {
   "cell_type": "code",
   "execution_count": 38,
   "metadata": {},
   "outputs": [],
   "source": [
    "MM_TO_M = 0.001\n",
    "cost_function_diameter_mm = {\n",
    "    100: 27.7,\n",
    "    125: 38.0,\n",
    "    150: 40.5,\n",
    "    200: 55.4,\n",
    "    250: 75.0,\n",
    "    300: 92.4,\n",
    "    350: 123.1,\n",
    "    400: 141.9,\n",
    "    450: 169.3,\n",
    "    500: 191.5,\n",
    "    600: 246.0,\n",
    "    700: 319.6,\n",
    "    800: 391.1\n",
    "}\n",
    "\n",
    "pipe_index = {\n",
    "    0:100,\n",
    "    1:125,\n",
    "    2:150,\n",
    "    3:200,\n",
    "    4:250,\n",
    "    5:300,\n",
    "    6:350,\n",
    "    7:400,\n",
    "    8:450,\n",
    "    9:500,\n",
    "    10:600,\n",
    "    11:700,\n",
    "    12:800,\n",
    "    }\n",
    "\n",
    "H_star = 20\n",
    "\n",
    "def transform_index_to_diameter(matrix_indexes, pipe_index):\n",
    "    return np.array([[pipe_index[j] for j in vector_indexes] for vector_indexes in matrix_indexes])\n",
    "\n",
    "def transform_diameter_to_cost(matrix_indexes, pipe_index):\n",
    "    return np.array([[pipe_index[j] for j in vector_indexes] for vector_indexes in matrix_indexes])"
   ]
  },
  {
   "cell_type": "code",
   "execution_count": 42,
   "metadata": {},
   "outputs": [
    {
     "name": "stdout",
     "output_type": "stream",
     "text": [
      "=================================================================================\n",
      "n_gen  |  n_eval  |     cv_min    |     cv_avg    |     f_avg     |     f_min    \n",
      "=================================================================================\n",
      "     1 |       20 |  0.000000E+00 |  0.000000E+00 |  1.009557E+07 |  9.148062E+06\n",
      "     2 |       40 |  0.000000E+00 |  0.000000E+00 |  9.169780E+06 |  7.622350E+06\n",
      "     3 |       60 |  0.000000E+00 |  0.000000E+00 |  8.177076E+06 |  6.439084E+06\n",
      "     4 |       80 |  0.000000E+00 |  0.000000E+00 |  7.119703E+06 |  6.295733E+06\n",
      "     5 |      100 |  0.000000E+00 |  0.000000E+00 |  6.455269E+06 |  5.460360E+06\n",
      "     6 |      120 |  0.000000E+00 |  0.000000E+00 |  5.915198E+06 |  4.842441E+06\n",
      "     7 |      140 |  0.000000E+00 |  0.000000E+00 |  5.273315E+06 |  4.425332E+06\n",
      "     8 |      160 |  0.000000E+00 |  0.000000E+00 |  4.834673E+06 |  4.425332E+06\n",
      "     9 |      180 |  0.000000E+00 |  0.000000E+00 |  4.517469E+06 |  4.114552E+06\n",
      "    10 |      200 |  0.000000E+00 |  0.000000E+00 |  4.375625E+06 |  4.114552E+06\n",
      "    11 |      220 |  0.000000E+00 |  0.000000E+00 |  4.289553E+06 |  4.114552E+06\n",
      "    12 |      240 |  0.000000E+00 |  0.000000E+00 |  4.192871E+06 |  4.008807E+06\n",
      "    13 |      260 |  0.000000E+00 |  0.000000E+00 |  4.120626E+06 |  3.995287E+06\n",
      "    14 |      280 |  0.000000E+00 |  0.000000E+00 |  4.063501E+06 |  3.989370E+06\n",
      "    15 |      300 |  0.000000E+00 |  0.000000E+00 |  4.032730E+06 |  3.923739E+06\n",
      "    16 |      320 |  0.000000E+00 |  0.000000E+00 |  3.994053E+06 |  3.854097E+06\n",
      "    17 |      340 |  0.000000E+00 |  0.000000E+00 |  3.955295E+06 |  3.854097E+06\n",
      "    18 |      360 |  0.000000E+00 |  0.000000E+00 |  3.916861E+06 |  3.807492E+06\n",
      "    19 |      380 |  0.000000E+00 |  0.000000E+00 |  3.889497E+06 |  3.806791E+06\n",
      "    20 |      400 |  0.000000E+00 |  0.000000E+00 |  3.855195E+06 |  3.764779E+06\n",
      "    21 |      420 |  0.000000E+00 |  0.000000E+00 |  3.813943E+06 |  3.708734E+06\n",
      "    22 |      440 |  0.000000E+00 |  0.000000E+00 |  3.776649E+06 |  3.684999E+06\n",
      "    23 |      460 |  0.000000E+00 |  0.000000E+00 |  3.724601E+06 |  3.669667E+06\n",
      "    24 |      480 |  0.000000E+00 |  0.000000E+00 |  3.693905E+06 |  3.636356E+06\n",
      "    25 |      500 |  0.000000E+00 |  0.000000E+00 |  3.665151E+06 |  3.627532E+06\n",
      "    26 |      520 |  0.000000E+00 |  0.000000E+00 |  3.649236E+06 |  3.618064E+06\n",
      "    27 |      540 |  0.000000E+00 |  0.000000E+00 |  3.638201E+06 |  3.605876E+06\n",
      "    28 |      560 |  0.000000E+00 |  0.000000E+00 |  3.624615E+06 |  3.604589E+06\n",
      "    29 |      580 |  0.000000E+00 |  0.000000E+00 |  3.615569E+06 |  3.596335E+06\n",
      "    30 |      600 |  0.000000E+00 |  0.000000E+00 |  3.602842E+06 |  3.577369E+06\n",
      "Best solution found: [4 2 1 0 7 3 0 1 2 0 2 0 4 0 5 1 1 1 8 1 0 1 0 0 2 2 1 0 3 2 1 4 2 3 1 1 2 0 4 1 0 0 1 3 1 5 3 2 1 4 2 3 1 0 2 2 1 2 0 3 5 0 2 2 3 2 0 3 1 2 1 5 2 4 0 2 6 2 1 6 1 1 1 1 7 0 3 0 4 1 7 1 7 1 0 2 1 4 1 1 6 3 2 1 2 1 2 1 3 5 1 2 0 0 3 0 2 2 1 1 7 4 4 3 0 4 2 0 1 1 0 1 2 2 0 4 0 1 5 1 3 0 0 1 1 2 1 8 4\n",
      " 1 3 8 0 0 0 5 0 0 0 0 3 0 3 0 8 1 3 1 0 4 9 2 2 0 2 1 0 1 5 2 1 1 0 0 1 2 6 2 1 2 1 8 3 2 0 4 0 2 2 2 0 3 0 1 0 2 3 1 0 0 5 0 0 0 7 1 4 1 1 4 3 1 0 1 2 1 3 5 1 1 0 1 3 1 4 1 1 3 2 4 3 5 2 1 1 0 4 1 2 4 1 4 2 2 9 9 2 3 2 1 1 5 1 1 1 1 0 1 3 2 1 0 2 0 1 5 0 0 0 1 5 8 2 0 4 1 2 2 0 2 2 5 1 0 1 0 4 1\n",
      " 0 1 2 6 2 0 2 2 1 3 2 4 2 4 0 2 5 1 1]\n",
      "Function value: [3577369.347]\n",
      "Constraint violation: [0.]\n"
     ]
    }
   ],
   "source": [
    "class ModenaOptimization(Problem):\n",
    "    \n",
    "    def __init__(self):\n",
    "        super().__init__(n_var=317, n_obj=1, n_ieq_constr=268, xl=0.0, xu=12.0, vtype=int)\n",
    "\n",
    "    def _evaluate(self, x, out, *args, **kwargs):\n",
    "\n",
    "        new_x = transform_index_to_diameter(x, pipe_index)\n",
    "        pressure_heads = np.zeros((20, 268))\n",
    "        individual_costs = np.zeros((20,1))\n",
    "        # Modify the water network \n",
    "        for i, individual in enumerate(new_x):\n",
    "            cost = 0\n",
    "            for j, pipe_name in enumerate(wn.pipe_name_list):\n",
    "                pipe = wn.get_link(pipe_name)\n",
    "                pipe.diameter = individual[j] * MM_TO_M\n",
    "                cost += cost_function_diameter_mm[individual[j]] * pipe.length\n",
    "            \n",
    "            individual_costs[i] = cost\n",
    "            #Simulate the individual\n",
    "            sim = wntr.sim.EpanetSimulator(wn)\n",
    "            results = sim.run_sim()\n",
    "\n",
    "            #\n",
    "            pressure_heads[i,:]= results.node['head'].values[0][:-4] #Excluding the 4 reservoirs\n",
    "        \n",
    "        out[\"F\"] = individual_costs#new_x @ np.array([[1, 2, 3, 4, 5, 6, 7, 8]]).transpose()\n",
    "        out[\"G\"] = -(pressure_heads - H_star)\n",
    "\n",
    "problem = ModenaOptimization()\n",
    "\n",
    "method = GA(pop_size=20,\n",
    "            sampling=IntegerRandomSampling(),\n",
    "            crossover=SBX(prob=1.0, eta=3.0, vtype=float, repair=RoundingRepair()),\n",
    "            mutation=PM(prob=1.0, eta=3.0, vtype=float, repair=RoundingRepair()),\n",
    "            eliminate_duplicates=True,\n",
    "            )\n",
    "\n",
    "res = minimize(problem,\n",
    "               method,\n",
    "               termination=('n_gen', 30),\n",
    "               seed=1,\n",
    "               save_history=True,\n",
    "               verbose=True\n",
    "               )\n",
    "\n",
    "print(\"Best solution found: %s\" % res.X)\n",
    "print(\"Function value: %s\" % res.F)\n",
    "print(\"Constraint violation: %s\" % res.CV)"
   ]
  },
  {
   "cell_type": "code",
   "execution_count": 43,
   "metadata": {},
   "outputs": [],
   "source": [
    "n_evals = []             # corresponding number of function evaluations\n",
    "hist_F = []              # the objective space values in each generation\n",
    "\n",
    "for algo in res.history:\n",
    "\n",
    "    # store the number of function evaluations\n",
    "    n_evals.append(algo.evaluator.n_eval)\n",
    "\n",
    "    # retrieve the optimum from the algorithm\n",
    "    opt = algo.opt\n",
    "\n",
    "    # filter out only the feasible and append and objective space values\n",
    "    feas = np.where(opt.get(\"feasible\"))[0]\n",
    "    hist_F.append(opt.get(\"F\")[feas][0][0])"
   ]
  },
  {
   "cell_type": "code",
   "execution_count": 44,
   "metadata": {},
   "outputs": [
    {
     "data": {
      "image/png": "[encoded data removed]",
      "text/plain": [
       "<Figure size 800x600 with 1 Axes>"
      ]
     },
     "metadata": {},
     "output_type": "display_data"
    }
   ],
   "source": [
    "# Create a scatter plot with enhanced styling\n",
    "plt.figure(figsize=(8, 6))  # Set the figure size\n",
    "\n",
    "# Create a scatter plot\n",
    "plt.scatter(n_evals, hist_F, label='Best objective function', color='blue', marker='o', s=100, alpha=0.7, edgecolors='black', linewidths=1.5)\n",
    "\n",
    "# Add labels and a legend with improved formatting\n",
    "plt.xlabel('Function evaluations', fontsize=14, fontweight='bold')\n",
    "plt.ylabel('Cost', fontsize=14, fontweight='bold')\n",
    "plt.title('Best solution evolution', fontsize=16, fontweight='bold')\n",
    "plt.legend(loc='upper right', fontsize=12)\n",
    "\n",
    "# Customize the grid appearance\n",
    "plt.grid(True, linestyle='--', alpha=0.5)\n",
    "\n",
    "# Customize the tick labels\n",
    "plt.xticks(fontsize=12)\n",
    "plt.yticks(fontsize=12)\n",
    "\n",
    "# Add a background color to the plot\n",
    "plt.gca().set_facecolor('#f2f2f2')\n",
    "\n",
    "# Show the plot with improved aesthetics\n",
    "plt.show()\n"
   ]
  },
  {
   "cell_type": "code",
   "execution_count": 45,
   "metadata": {},
   "outputs": [
    {
     "name": "stdout",
     "output_type": "stream",
     "text": [
      "[0.25  0.15  0.125 0.1   0.4   0.2   0.1   0.125 0.15  0.1   0.15  0.1   0.25  0.1   0.3   0.125 0.125 0.125 0.45  0.125 0.1   0.125 0.1   0.1   0.15  0.15  0.125 0.1   0.2   0.15  0.125 0.25  0.15  0.2   0.125 0.125 0.15  0.1   0.25  0.125 0.1   0.1   0.125 0.2   0.125 0.3   0.2   0.15  0.125\n",
      " 0.25  0.15  0.2   0.125 0.1   0.15  0.15  0.125 0.15  0.1   0.2   0.3   0.1   0.15  0.15  0.2   0.15  0.1   0.2   0.125 0.15  0.125 0.3   0.15  0.25  0.1   0.15  0.35  0.15  0.125 0.35  0.125 0.125 0.125 0.125 0.4   0.1   0.2   0.1   0.25  0.125 0.4   0.125 0.4   0.125 0.1   0.15  0.125 0.25\n",
      " 0.125 0.125 0.35  0.2   0.15  0.125 0.15  0.125 0.15  0.125 0.2   0.3   0.125 0.15  0.1   0.1   0.2   0.1   0.15  0.15  0.125 0.125 0.4   0.25  0.25  0.2   0.1   0.25  0.15  0.1   0.125 0.125 0.1   0.125 0.15  0.15  0.1   0.25  0.1   0.125 0.3   0.125 0.2   0.1   0.1   0.125 0.125 0.15  0.125\n",
      " 0.45  0.25  0.125 0.2   0.45  0.1   0.1   0.1   0.3   0.1   0.1   0.1   0.1   0.2   0.1   0.2   0.1   0.45  0.125 0.2   0.125 0.1   0.25  0.5   0.15  0.15  0.1   0.15  0.125 0.1   0.125 0.3   0.15  0.125 0.125 0.1   0.1   0.125 0.15  0.35  0.15  0.125 0.15  0.125 0.45  0.2   0.15  0.1   0.25\n",
      " 0.1   0.15  0.15  0.15  0.1   0.2   0.1   0.125 0.1   0.15  0.2   0.125 0.1   0.1   0.3   0.1   0.1   0.1   0.4   0.125 0.25  0.125 0.125 0.25  0.2   0.125 0.1   0.125 0.15  0.125 0.2   0.3   0.125 0.125 0.1   0.125 0.2   0.125 0.25  0.125 0.125 0.2   0.15  0.25  0.2   0.3   0.15  0.125 0.125\n",
      " 0.1   0.25  0.125 0.15  0.25  0.125 0.25  0.15  0.15  0.5   0.5   0.15  0.2   0.15  0.125 0.125 0.3   0.125 0.125 0.125 0.125 0.1   0.125 0.2   0.15  0.125 0.1   0.15  0.1   0.125 0.3   0.1   0.1   0.1   0.125 0.3   0.45  0.15  0.1   0.25  0.125 0.15  0.15  0.1   0.15  0.15  0.3   0.125 0.1\n",
      " 0.125 0.1   0.25  0.125 0.1   0.125 0.15  0.35  0.15  0.1   0.15  0.15  0.125 0.2   0.15  0.25  0.15  0.25  0.1   0.15  0.3   0.125 0.125]\n"
     ]
    }
   ],
   "source": [
    "optimal_diameters = transform_index_to_diameter([res.X], pipe_index)[0]*MM_TO_M\n",
    "print(optimal_diameters)"
   ]
  },
  {
   "cell_type": "code",
   "execution_count": 46,
   "metadata": {},
   "outputs": [],
   "source": [
    "# Modify the water network\n",
    "for j, pipe_name in enumerate(wn.pipe_name_list):\n",
    "    pipe = wn.get_link(pipe_name)\n",
    "    # Modify the water network \n",
    "    pipe.diameter = optimal_diameters[j]\n",
    "    \n",
    "#Simulate the individual\n",
    "sim = wntr.sim.EpanetSimulator(wn)\n",
    "results = sim.run_sim()"
   ]
  },
  {
   "cell_type": "code",
   "execution_count": 47,
   "metadata": {},
   "outputs": [
    {
     "data": {
      "text/html": [
       "<div>\n",
       "<style scoped>\n",
       "    .dataframe tbody tr th:only-of-type {\n",
       "        vertical-align: middle;\n",
       "    }\n",
       "\n",
       "    .dataframe tbody tr th {\n",
       "        vertical-align: top;\n",
       "    }\n",
       "\n",
       "    .dataframe thead th {\n",
       "        text-align: right;\n",
       "    }\n",
       "</style>\n",
       "<table border=\"1\" class=\"dataframe\">\n",
       "  <thead>\n",
       "    <tr style=\"text-align: right;\">\n",
       "      <th>name</th>\n",
       "      <th>1</th>\n",
       "      <th>2</th>\n",
       "      <th>3</th>\n",
       "      <th>4</th>\n",
       "      <th>5</th>\n",
       "      <th>6</th>\n",
       "      <th>7</th>\n",
       "      <th>8</th>\n",
       "      <th>9</th>\n",
       "      <th>10</th>\n",
       "      <th>...</th>\n",
       "      <th>263</th>\n",
       "      <th>264</th>\n",
       "      <th>265</th>\n",
       "      <th>266</th>\n",
       "      <th>267</th>\n",
       "      <th>268</th>\n",
       "      <th>269</th>\n",
       "      <th>270</th>\n",
       "      <th>271</th>\n",
       "      <th>272</th>\n",
       "    </tr>\n",
       "  </thead>\n",
       "  <tbody>\n",
       "    <tr>\n",
       "      <th>0</th>\n",
       "      <td>65.033745</td>\n",
       "      <td>61.472923</td>\n",
       "      <td>46.638603</td>\n",
       "      <td>24.235439</td>\n",
       "      <td>24.232418</td>\n",
       "      <td>22.466539</td>\n",
       "      <td>22.473106</td>\n",
       "      <td>22.693108</td>\n",
       "      <td>24.311714</td>\n",
       "      <td>26.367374</td>\n",
       "      <td>...</td>\n",
       "      <td>33.049454</td>\n",
       "      <td>68.230591</td>\n",
       "      <td>21.297823</td>\n",
       "      <td>21.905678</td>\n",
       "      <td>21.24864</td>\n",
       "      <td>20.836769</td>\n",
       "      <td>72.0</td>\n",
       "      <td>73.800003</td>\n",
       "      <td>73.0</td>\n",
       "      <td>74.5</td>\n",
       "    </tr>\n",
       "  </tbody>\n",
       "</table>\n",
       "<p>1 rows × 272 columns</p>\n",
       "</div>"
      ],
      "text/plain": [
       "name          1          2          3          4          5          6  \\\n",
       "0     65.033745  61.472923  46.638603  24.235439  24.232418  22.466539   \n",
       "\n",
       "name          7          8          9         10  ...        263        264  \\\n",
       "0     22.473106  22.693108  24.311714  26.367374  ...  33.049454  68.230591   \n",
       "\n",
       "name        265        266       267        268   269        270   271   272  \n",
       "0     21.297823  21.905678  21.24864  20.836769  72.0  73.800003  73.0  74.5  \n",
       "\n",
       "[1 rows x 272 columns]"
      ]
     },
     "execution_count": 47,
     "metadata": {},
     "output_type": "execute_result"
    }
   ],
   "source": [
    "results.node['head']"
   ]
  }
 ],
 "metadata": {
  "kernelspec": {
   "display_name": "venv_MUDE_Opt",
   "language": "python",
   "name": "python3"
  },
  "language_info": {
   "codemirror_mode": {
    "name": "ipython",
    "version": 3
   },
   "file_extension": ".py",
   "mimetype": "text/x-python",
   "name": "python",
   "nbconvert_exporter": "python",
   "pygments_lexer": "ipython3",
   "version": "3.10.2"
  },
  "orig_nbformat": 4
 },
 "nbformat": 4,
 "nbformat_minor": 2
}
