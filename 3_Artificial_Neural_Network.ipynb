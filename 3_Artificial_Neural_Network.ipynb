{
 "cells": [
  {
   "cell_type": "markdown",
   "metadata": {},
   "source": [
    "# Artificial neural network for Water Distribution Systems Metamodelling - Machine learning project (1/2)"
   ]
  },
  {
   "cell_type": "markdown",
   "metadata": {},
   "source": [
    "**Objectives:**\n",
    "- Implement an artificial neural network (ANN) to metamodel a water distribution system.\n",
    "\n",
    "**Completition requirements:**\n",
    "\n",
    "By the end of this notebook, you should have:\n",
    "- Implemented all the code cells for:\n",
    "  - Loading the dataset of simulations\n",
    "  - Defining an ANN\n",
    "  - Training the ANN\n",
    "  - Testing the performance of the ANN\n",
    "  - Saving the metamodel for later use\n",
    "- Answered all the questions"
   ]
  },
  {
   "cell_type": "markdown",
   "metadata": {},
   "source": [
    "## 📔 Libraries\n",
    "\n",
    "<!-- \n",
    "# If you have not installed pytorch geometric uncomment the following lines to install it\n",
    "\n",
    "# !pip install -q torch-scatter -f https://data.pyg.org/whl/torch-${TORCH}.html\n",
    "# !pip install -q torch-sparse -f https://data.pyg.org/whl/torch-${TORCH}.html\n",
    "# !pip install -q git+https://github.com/pyg-team/pytorch_geometric.git\n",
    "\n",
    "# !pip install wntr -->"
   ]
  },
  {
   "cell_type": "markdown",
   "metadata": {},
   "source": [
    "To run this notebook you need to have installed the following packages:\n",
    "- Pandas\n",
    "- Numpy\n",
    "- Matplotlib\n",
    "- Pickle\n",
    "- Scikit-learn"
   ]
  },
  {
   "cell_type": "code",
   "execution_count": 34,
   "metadata": {},
   "outputs": [],
   "source": [
    "import time\n",
    "import torch\n",
    "import pickle\n",
    "import numpy as np\n",
    "import matplotlib.pyplot as plt\n",
    "\n",
    "from sklearn.neural_network import MLPRegressor\n",
    "from sklearn.preprocessing import StandardScaler, MinMaxScaler"
   ]
  },
  {
   "cell_type": "markdown",
   "metadata": {},
   "source": [
    "## 🔙 Background"
   ]
  },
  {
   "cell_type": "markdown",
   "metadata": {},
   "source": [
    "### 💧 Water distribution systems"
   ]
  },
  {
   "cell_type": "markdown",
   "metadata": {},
   "source": [
    "Water utilities rely on hydrodynamic models to properly design and control water distribution systems (WDSs). These physically-based models, such as [EPANET](https://www.epa.gov/water-research/epanet), compute the state of the system, i.e., the flow rates and pressures at all the pipes and junctions, as illustrated in Figure 1. \n",
    "\n",
    "Hydrodynamic models provide valuable insight into the functioning of the system. However, the computational speed of these models is often insufficient for some applications in civil engineering such as optimisation of design or criticality assessment, especially in large search space problems. \n",
    "\n",
    "One alternative to address this issue is developing data-driven models. These models are trained using results calculated using the original model (EPANET, in this case) in multiple scenarios. The objective of the data-driven models is to estimate the output of the original model but in a shorter time."
   ]
  },
  {
   "cell_type": "markdown",
   "metadata": {},
   "source": [
    "<div>\n",
    "<center><img src=\"./Images/Modena.png\" width=\"700\"/></center>\n",
    "</div>\n",
    "\n",
    "Figure 1. Numerical results for the water distribution system in the city of Modena, Italy."
   ]
  },
  {
   "cell_type": "markdown",
   "metadata": {},
   "source": [
    "Water modellers have resorted to metamodels to replace computationally costly models. Metamodels are a faster-to-run alternative."
   ]
  },
  {
   "cell_type": "markdown",
   "metadata": {},
   "source": [
    "## ⛔ Problem definition "
   ]
  },
  {
   "cell_type": "markdown",
   "metadata": {},
   "source": [
    "<div>\n",
    "<center><img src=\"./Images/ANN_image.png\" width=\"1000\"/></center>\n",
    "</div>\n",
    "\n",
    "\n",
    "Figure 2. Artificial neural network representation."
   ]
  },
  {
   "cell_type": "markdown",
   "metadata": {},
   "source": [
    "The problem is to create an alternative model of WNTR using an ANN, exemplified in Figure 2. The metamodel should give approximate solution while being faster to run. "
   ]
  },
  {
   "cell_type": "markdown",
   "metadata": {},
   "source": [
    "## 🏋🏽‍♀️ Exercise: Metamodel"
   ]
  },
  {
   "cell_type": "markdown",
   "metadata": {},
   "source": [
    "### Load the database of examples"
   ]
  },
  {
   "cell_type": "markdown",
   "metadata": {},
   "source": [
    "Training"
   ]
  },
  {
   "cell_type": "code",
   "execution_count": 35,
   "metadata": {},
   "outputs": [],
   "source": [
    "file_path = r\"./Datasets/Modena/features_Modena_training.p\"\n",
    "with open(file_path, 'rb') as handle:\n",
    "    training_features = pickle.load(handle)\n",
    "\n",
    "file_path = r\"./Datasets/Modena/targets_Modena_training.p\"\n",
    "with open(file_path, 'rb') as handle:\n",
    "    training_targets = pickle.load(handle)"
   ]
  },
  {
   "cell_type": "markdown",
   "metadata": {},
   "source": [
    "Validation"
   ]
  },
  {
   "cell_type": "code",
   "execution_count": 36,
   "metadata": {},
   "outputs": [],
   "source": [
    "file_path = r\"./Datasets/Modena/features_Modena_validation.p\"\n",
    "with open(file_path, 'rb') as handle:\n",
    "    validation_features = pickle.load(handle)\n",
    "\n",
    "file_path = r\"./Datasets/Modena/targets_Modena_validation.p\"\n",
    "with open(file_path, 'rb') as handle:\n",
    "    validation_targets = pickle.load(handle)"
   ]
  },
  {
   "cell_type": "markdown",
   "metadata": {},
   "source": [
    "### Data pre-processing"
   ]
  },
  {
   "cell_type": "code",
   "execution_count": 38,
   "metadata": {},
   "outputs": [],
   "source": [
    "max_feature = 1 #training_features.max()\n",
    "min_feature = 0 #training_features.min()\n",
    "\n",
    "max_target = training_targets.max()\n",
    "min_target = training_targets.min()\n",
    "\n",
    "\n",
    "def min_max_normalize(data, min, max):\n",
    "    return (data-min)/(max-min)\n",
    "\n",
    "def inverse_min_max_normalize(data, min, max):\n",
    "    return (data)*(max-min)+min\n",
    "\n",
    "\n",
    "X_train = min_max_normalize(training_features, min_feature, max_feature)\n",
    "y_train = min_max_normalize(training_targets, min_target, max_target)\n",
    "\n",
    "X_val = min_max_normalize(validation_features, min_feature, max_feature)\n",
    "y_val = min_max_normalize(validation_targets, min_target, max_target)"
   ]
  },
  {
   "cell_type": "markdown",
   "metadata": {},
   "source": [
    "### Define the metamodel"
   ]
  },
  {
   "cell_type": "markdown",
   "metadata": {},
   "source": [
    "#### Linear Model"
   ]
  },
  {
   "cell_type": "markdown",
   "metadata": {},
   "source": [
    "First, let's try a linear model with linear features. We use the `MLPRegressor` to stay consistent with the workflow for the rest of the notebook. A linear model with linear features can be obtained by setting the activation function to be the identity. The inputs are multiplied with the weights twice &mdash; once before and once after the hidden layer. However, the linear combination of linear models will still result in a linear model, which makes this little trick work. The training is trivial, and we therefore employ the built-in `MLPRegressor.fit()` function to this end."
   ]
  },
  {
   "cell_type": "code",
   "execution_count": 40,
   "metadata": {},
   "outputs": [],
   "source": [
    "# Set up linear regression model\n",
    "linear_model = MLPRegressor(solver='sgd', \n",
    "                            hidden_layer_sizes=(10), \n",
    "                            activation='identity', \n",
    "                            learning_rate='constant',\n",
    "                            # verbose = True\n",
    "                            )\n",
    "\n",
    "# train NN\n",
    "linear_model.fit(X_train, y_train)\n",
    "y_pred = linear_model.predict(X_val)"
   ]
  },
  {
   "cell_type": "code",
   "execution_count": 41,
   "metadata": {},
   "outputs": [
    {
     "data": {
      "text/plain": [
       "(1000, 272)"
      ]
     },
     "execution_count": 41,
     "metadata": {},
     "output_type": "execute_result"
    }
   ],
   "source": [
    "y_pred.shape"
   ]
  },
  {
   "cell_type": "code",
   "execution_count": 45,
   "metadata": {},
   "outputs": [
    {
     "data": {
      "image/png": "[encoded data removed]",
      "text/plain": [
       "<Figure size 640x480 with 1 Axes>"
      ]
     },
     "metadata": {},
     "output_type": "display_data"
    }
   ],
   "source": [
    "error = inverse_min_max_normalize(y_val, min_target, max_target) - inverse_min_max_normalize(y_pred, min_target, max_target)\n",
    "error_sim = error[:,0]\n",
    "\n",
    "fig, ax = plt.subplots()\n",
    "\n",
    "bars = ax.bar(\n",
    "    x=np.arange(error_sim.size),\n",
    "    height=error_sim,\n",
    ")\n",
    "\n",
    "# Axis formatting.\n",
    "ax.spines['top'].set_visible(False)\n",
    "ax.spines['right'].set_visible(False)\n",
    "ax.spines['left'].set_visible(False)\n",
    "ax.spines['bottom'].set_color('#DDDDDD')\n",
    "ax.tick_params(bottom=False, left=False)\n",
    "ax.set_axisbelow(True)\n",
    "ax.yaxis.grid(True, color='#EEEEEE')\n",
    "ax.xaxis.grid(False)\n",
    "\n",
    "ax.set_xlabel('Node Index', labelpad=15, color='#333333')\n",
    "ax.set_ylabel('Error of prediction [m]', labelpad=15, color='#333333')\n",
    "ax.set_title(f'Error of critical node for all scenarios', pad=15, color='#333333', weight='bold')\n",
    "\n",
    "fig.tight_layout()"
   ]
  },
  {
   "cell_type": "markdown",
   "metadata": {},
   "source": [
    "This is not awful, but we can do better than that. Now, let's try a nonlinear model. As you might already have guessed from the implementation of the linear model, we propose a neural network. We also discard the `MPLRegressor.fit()` function and implement the training loop our selves, to be able to take a look under the hood."
   ]
  },
  {
   "cell_type": "markdown",
   "metadata": {},
   "source": [
    "#### Artificial Neural Network"
   ]
  },
  {
   "cell_type": "markdown",
   "metadata": {},
   "source": [
    "With our dataset ready, we can create a function to train a neural network (NN). There are many choices to be made when creating such a function, most are related to the bias - variance tradeoff discussed in the lectures. The outline of the function we want to create is as follows:\n",
    "\n",
    "`def NN_train()`:<br>\n",
    "&emsp;&emsp; For a maximum number of epochs:<br>\n",
    "&emsp;&emsp;&emsp;&emsp; Permutate the data<br> \n",
    "&emsp;&emsp;&emsp;&emsp; For every minibatch:<br> \n",
    "&emsp;&emsp;&emsp;&emsp;&emsp;&emsp; Collect the X & y training data<br> \n",
    "&emsp;&emsp;&emsp;&emsp;&emsp;&emsp; Take a NN step (partial fit)<br> \n",
    "&emsp;&emsp;&emsp;&emsp; Compute the root mean squared error (RMSE) on the validation set<br> \n",
    "&emsp;&emsp;&emsp;&emsp; If the RMSE is the lowest:<br> \n",
    "&emsp;&emsp;&emsp;&emsp;&emsp;&emsp; Save the RMSE & NN model<br> \n",
    "&emsp;&emsp;&emsp;&emsp; If RMSE has not decreased in the last X epochs<br> \n",
    "&emsp;&emsp;&emsp;&emsp;&emsp;&emsp; Stop the training loop<br> \n",
    "&emsp;&emsp;&emsp;&emsp; Adapt the learning rate if necessary<br> \n",
    "&emsp;&emsp; Return NN, rmse_min & full_rmse_array<br>\n",
    "\n"
   ]
  },
  {
   "cell_type": "code",
   "execution_count": 46,
   "metadata": {},
   "outputs": [],
   "source": [
    "# function to train the NN\n",
    "def NN_train(NN, X_train, y_train, X_val, y_val, \n",
    "             max_epoch=100, \n",
    "             tol=1e-6, \n",
    "             verbose=False, \n",
    "             lr_init=0.001, \n",
    "             lr_pow=0.9, \n",
    "             lr_step=500, \n",
    "             seed=0, \n",
    "             batchsize=50):\n",
    "    \n",
    "    # set seed \n",
    "    np.random.seed(seed)\n",
    "    \n",
    "    # set up array for mse and improvement count for early stopping\n",
    "    rmse = [] \n",
    "    rmse_min = 1e10\n",
    "    no_improvement_count = 0\n",
    "    \n",
    "    # init learning rate\n",
    "    lr = lr_init\n",
    "    NN.learning_rate_init = lr\n",
    "    \n",
    "    NN_best = NN\n",
    "    \n",
    "    # loop over iterations\n",
    "    for epoch in range(max_epoch):\n",
    "            \n",
    "        # set up permutation of the data\n",
    "        n = X_train.shape[0]\n",
    "        perm = np.random.permutation(n)\n",
    "        batches_per_epoch = int(np.floor(n/batchsize))\n",
    "        \n",
    "        # loop over batches\n",
    "        for it in range(batches_per_epoch):\n",
    "            \n",
    "            # collect current batch\n",
    "            X_batch = X_train[perm[it*batchsize:(it+1)*batchsize]]\n",
    "            y_batch = y_train[perm[it*batchsize:(it+1)*batchsize]]\n",
    "                \n",
    "            # take step\n",
    "            NN.partial_fit(X_batch, y_batch)\n",
    "            \n",
    "        # compute rmse on validation set after each epoch\n",
    "        y_val_hat = NN.predict(X_val)\n",
    "        rmse.append(np.sqrt(np.sum((y_val - y_val_hat)**2)/len(y_val)))\n",
    "        \n",
    "        # adapt learning rate\n",
    "        if (epoch > 0) and (epoch%lr_step==0):\n",
    "            lr *= lr_pow\n",
    "            NN.learning_rate_init = lr\n",
    "            if verbose:\n",
    "                print(\"Reduced learning rate to {:.4e}\".format(lr))\n",
    "        \n",
    "        # check if no improvement occured in last iters\n",
    "        if rmse[-1] - rmse_min > tol:\n",
    "            no_improvement_count += 1\n",
    "        elif rmse[-1] < rmse_min:\n",
    "            rmse_min = rmse[-1]\n",
    "            no_improvement_count = 0\n",
    "            NN_best = NN\n",
    "        \n",
    "        # exit loop when no improvement was registered during past twenty iters\n",
    "        if no_improvement_count == 20:\n",
    "            print(\"Training stopped after {} epochs\".format(epoch))\n",
    "            break\n",
    "        \n",
    "        # print loss (optional)\n",
    "        if verbose and epoch%2==0:\n",
    "            print(\"\\nIteration {}\".format(epoch))\n",
    "            print(\"   rmse {:.4e}\\n\".format(rmse[epoch]))\n",
    "    \n",
    "    if (epoch==max_epoch-1): print(\"Reached max_epochs ( {} )\".format(max_epoch))\n",
    "    \n",
    "    # return trained network and last rmse\n",
    "    return NN_best, rmse_min, rmse"
   ]
  },
  {
   "cell_type": "code",
   "execution_count": 47,
   "metadata": {},
   "outputs": [
    {
     "name": "stdout",
     "output_type": "stream",
     "text": [
      "\n",
      "Iteration 0\n",
      "   rmse 1.2737e+00\n",
      "\n",
      "\n",
      "Iteration 2\n",
      "   rmse 1.1024e+00\n",
      "\n",
      "\n",
      "Iteration 4\n",
      "   rmse 9.2316e-01\n",
      "\n",
      "\n",
      "Iteration 6\n",
      "   rmse 7.5506e-01\n",
      "\n",
      "\n",
      "Iteration 8\n",
      "   rmse 7.0416e-01\n",
      "\n",
      "\n",
      "Iteration 10\n",
      "   rmse 7.2670e-01\n",
      "\n",
      "\n",
      "Iteration 12\n",
      "   rmse 6.4810e-01\n",
      "\n",
      "\n",
      "Iteration 14\n",
      "   rmse 6.5817e-01\n",
      "\n",
      "\n",
      "Iteration 16\n",
      "   rmse 6.5456e-01\n",
      "\n",
      "\n",
      "Iteration 18\n",
      "   rmse 8.0361e-01\n",
      "\n",
      "\n",
      "Iteration 20\n",
      "   rmse 6.7200e-01\n",
      "\n",
      "\n",
      "Iteration 22\n",
      "   rmse 6.2518e-01\n",
      "\n",
      "\n",
      "Iteration 24\n",
      "   rmse 7.1881e-01\n",
      "\n",
      "\n",
      "Iteration 26\n",
      "   rmse 8.2839e-01\n",
      "\n",
      "\n",
      "Iteration 28\n",
      "   rmse 7.6922e-01\n",
      "\n",
      "\n",
      "Iteration 30\n",
      "   rmse 7.3414e-01\n",
      "\n",
      "\n",
      "Iteration 32\n",
      "   rmse 6.3003e-01\n",
      "\n",
      "\n",
      "Iteration 34\n",
      "   rmse 6.7810e-01\n",
      "\n",
      "\n",
      "Iteration 36\n",
      "   rmse 1.3986e+00\n",
      "\n",
      "\n",
      "Iteration 38\n",
      "   rmse 6.9230e-01\n",
      "\n",
      "\n",
      "Iteration 40\n",
      "   rmse 6.4243e-01\n",
      "\n",
      "Training stopped after 42 epochs\n"
     ]
    }
   ],
   "source": [
    "# Set up NN\n",
    "NN = MLPRegressor(solver='adam', \n",
    "                  hidden_layer_sizes=(128, 128, 128, 128), \n",
    "                  activation='relu',\n",
    "                  batch_size = 32,\n",
    "                  learning_rate='constant',\n",
    "                  )\n",
    "\n",
    "# train NN\n",
    "NN, _, rmse = NN_train(NN, X_train, y_train, X_val, y_val, max_epoch=100, verbose=True, lr_init=1e-1, lr_step=50)"
   ]
  },
  {
   "cell_type": "markdown",
   "metadata": {},
   "source": [
    "You can use the following plotting routines to visualize your predictions. Keep in mind that all of the following graphs are based on projections of the input data on 1D or 2D subspaces that suppress at least part of the information contained in the dataset. Those projections, however, are necessary to enable visualizations of the predictions."
   ]
  },
  {
   "cell_type": "code",
   "execution_count": 51,
   "metadata": {},
   "outputs": [
    {
     "data": {
      "image/png": "[encoded data removed]",
      "text/plain": [
       "<Figure size 640x480 with 1 Axes>"
      ]
     },
     "metadata": {},
     "output_type": "display_data"
    }
   ],
   "source": [
    "y_pred = NN.predict(X_val)\n",
    "\n",
    "error = inverse_min_max_normalize(y_val, min_target, max_target) - inverse_min_max_normalize(y_pred, min_target, max_target)\n",
    "error_sim = error[:,10]\n",
    "\n",
    "fig, ax = plt.subplots()\n",
    "\n",
    "bars = ax.bar(\n",
    "    x=np.arange(error_sim.size),\n",
    "    height=error_sim,\n",
    ")\n",
    "\n",
    "\n",
    "# Axis formatting.\n",
    "ax.spines['top'].set_visible(False)\n",
    "ax.spines['right'].set_visible(False)\n",
    "ax.spines['left'].set_visible(False)\n",
    "ax.spines['bottom'].set_color('#DDDDDD')\n",
    "ax.tick_params(bottom=False, left=False)\n",
    "ax.set_axisbelow(True)\n",
    "ax.yaxis.grid(True, color='#EEEEEE')\n",
    "ax.xaxis.grid(False)\n",
    "\n",
    "ax.set_xlabel('Node Index', labelpad=15, color='#333333')\n",
    "ax.set_ylabel('Error of prediction [m]', labelpad=15, color='#333333')\n",
    "ax.set_title(f'Error of critical node for all scenarios', pad=15, color='#333333', weight='bold')\n",
    "\n",
    "fig.tight_layout()"
   ]
  },
  {
   "cell_type": "markdown",
   "metadata": {},
   "source": [
    "## Hyperparameter tuning"
   ]
  },
  {
   "cell_type": "markdown",
   "metadata": {},
   "source": [
    "The network's performance looks good on a visual inspection, but we need to quantify the error and compare it for different architectures to find the best-performing model. For this purpose, we turn to a grid-search strategy to find hyperparameters that give the best prediction on a validation set.\n",
    "\n",
    "Note: For the parameters, at least vary the number of layers and the size of each layer. Optionally, also look at the activation function."
   ]
  },
  {
   "cell_type": "code",
   "execution_count": null,
   "metadata": {},
   "outputs": [],
   "source": [
    "# define coordinate vectors for grid\n",
    "layer_sizes = [128] #,10, 15, 20\n",
    "layer_numbers = [4] #1, 2, 3, 4\n",
    "\n",
    "# get grid for the coordinate pairs and store them in an array\n",
    "rmse = np.zeros((len(layer_sizes), len(layer_numbers)))\n",
    "\n",
    "# loop all hidden layer sizes\n",
    "for i, lsize in enumerate(layer_sizes):\n",
    "    \n",
    "    # loop over all numbers of hidden layers\n",
    "    for j, lnumber in enumerate(layer_numbers):\n",
    "    \n",
    "        # get tuple for archbatch_size=cture and print\n",
    "        layers = (lsize,) * lnumber\n",
    "        print(\"Training NN with hidden layers:  {}\".format(layers))\n",
    "        \n",
    "        # get NN\n",
    "        NN = MLPRegressor(solver='adam', hidden_layer_sizes=layers, activation='relu')\n",
    "        NN, rmse[i,j], _ = NN_train(NN, X_train, y_train, X_val, y_val, max_epoch=100000, verbose=False, lr_init=1e-1, lr_step=20)\n",
    "        \n",
    "        # print\n",
    "        print(\"     Mean square error:    {:.4e}\\n\".format(rmse[i,j]))\n",
    "\n",
    "\n",
    "# get NN that gave lowest rmse and print\n",
    "min_size, min_number = np.unravel_index(np.argmin(rmse), rmse.shape)\n",
    "print(\"\\n\\nModel with {} layers and {} neurons per layer gave lowest rmse of {:.4e}\".format(layer_numbers[min_number], layer_sizes[min_size], rmse[min_size, min_number]))"
   ]
  },
  {
   "cell_type": "markdown",
   "metadata": {},
   "source": [
    "Let's use our test data to visualize our best-performing model and test its predictive capabilities. First, re-initialize & train the model with the optimal hyperparameters.\n"
   ]
  },
  {
   "cell_type": "code",
   "execution_count": null,
   "metadata": {},
   "outputs": [],
   "source": [
    "# Set up NN\n",
    "layers = (layer_sizes[min_size],) * layer_numbers[min_number]\n",
    "NN = MLPRegressor(solver='sgd', hidden_layer_sizes=layers, activation='relu', batch_size = 32)\n",
    "\n",
    "# train NN\n",
    "NN, _, _ = NN_train(NN, X_train, y_train, X_val, y_val, max_epoch=100, verbose=True, lr_init=1e-1, lr_step=50)"
   ]
  },
  {
   "cell_type": "markdown",
   "metadata": {},
   "source": [
    "## Model prediction on test set"
   ]
  },
  {
   "cell_type": "code",
   "execution_count": 52,
   "metadata": {},
   "outputs": [],
   "source": [
    "file_path = r\"./Datasets/Modena/features_Modena_testing.p\"\n",
    "with open(file_path, 'rb') as handle:\n",
    "    testing_features = pickle.load(handle)\n",
    "\n",
    "file_path = r\"./Datasets/Modena/targets_Modena_testing.p\"\n",
    "with open(file_path, 'rb') as handle:\n",
    "    testing_targets = pickle.load(handle)"
   ]
  },
  {
   "cell_type": "code",
   "execution_count": 54,
   "metadata": {},
   "outputs": [],
   "source": [
    "X_test = min_max_normalize(testing_features, min_feature, max_feature)\n",
    "y_test = min_max_normalize(testing_targets, min_target, max_target)"
   ]
  },
  {
   "cell_type": "markdown",
   "metadata": {},
   "source": [
    "### Accuracy"
   ]
  },
  {
   "cell_type": "code",
   "execution_count": 56,
   "metadata": {},
   "outputs": [
    {
     "data": {
      "image/png": "[encoded data removed]",
      "text/plain": [
       "<Figure size 640x480 with 1 Axes>"
      ]
     },
     "metadata": {},
     "output_type": "display_data"
    }
   ],
   "source": [
    "y_pred = NN.predict(X_test)\n",
    "\n",
    "unnormalized_predictions = inverse_min_max_normalize(y_pred, min_target, max_target)\n",
    "\n",
    "error = unnormalized_predictions - testing_targets\n",
    "error_sim = error[:, 0]\n",
    "fig, ax = plt.subplots()\n",
    "\n",
    "bars = ax.bar(\n",
    "    x=np.arange(error_sim.size),\n",
    "    height=error_sim,\n",
    ")\n",
    "\n",
    "# Axis formatting.\n",
    "ax.spines['top'].set_visible(False)\n",
    "ax.spines['right'].set_visible(False)\n",
    "ax.spines['left'].set_visible(False)\n",
    "ax.spines['bottom'].set_color('#DDDDDD')\n",
    "ax.tick_params(bottom=False, left=False)\n",
    "ax.set_axisbelow(True)\n",
    "ax.yaxis.grid(True, color='#EEEEEE')\n",
    "ax.xaxis.grid(False)\n",
    "\n",
    "ax.set_xlabel('Node Index', labelpad=15, color='#333333')\n",
    "ax.set_ylabel('Error of prediction [m]', labelpad=15, color='#333333')\n",
    "ax.set_title(f'Error of critical node for all scenarios', pad=15, color='#333333', weight='bold')\n",
    "\n",
    "fig.tight_layout()"
   ]
  },
  {
   "cell_type": "markdown",
   "metadata": {},
   "source": [
    "Finally, we need to compute the RMSE for all samples in the test set to quantify our accuracy."
   ]
  },
  {
   "cell_type": "code",
   "execution_count": 57,
   "metadata": {},
   "outputs": [
    {
     "name": "stdout",
     "output_type": "stream",
     "text": [
      "RMSE on test set for best performing model: 2.7176e+01\n"
     ]
    }
   ],
   "source": [
    "y_pred_test = NN.predict(X_test)\n",
    "rmse_test = np.sqrt(np.sum((unnormalized_predictions - testing_targets).reshape(-1)**2) / y_test.shape[0])\n",
    "print(\"RMSE on test set for best performing model: {:.4e}\".format(rmse_test))"
   ]
  },
  {
   "cell_type": "code",
   "execution_count": 60,
   "metadata": {},
   "outputs": [
    {
     "data": {
      "text/plain": [
       "0.8991601475859411"
      ]
     },
     "execution_count": 60,
     "metadata": {},
     "output_type": "execute_result"
    }
   ],
   "source": [
    "# from sklearn.metrics import r2_score\n",
    "# r2_score(testing_targets.flatten(), unnormalized_predictions.flatten())"
   ]
  },
  {
   "cell_type": "markdown",
   "metadata": {},
   "source": [
    "### Speed"
   ]
  },
  {
   "cell_type": "markdown",
   "metadata": {},
   "source": [
    "We can calculate the time per scenario that the model takes."
   ]
  },
  {
   "cell_type": "code",
   "execution_count": 75,
   "metadata": {},
   "outputs": [
    {
     "name": "stdout",
     "output_type": "stream",
     "text": [
      "Data-driven model took 0.00001 seconds for 1000 scenarios\n"
     ]
    }
   ],
   "source": [
    "start_time = time.time()\n",
    "y_pred_test = NN.predict(X_test)\n",
    "total_time = time.time() - start_time\n",
    "\n",
    "num_test_sims = len(y_pred_test)\n",
    "\n",
    "data_driven_exec_time_per_sim = total_time/num_test_sims\n",
    "print(f'Data-driven model took {data_driven_exec_time_per_sim:.5f} seconds for {num_test_sims} scenarios')"
   ]
  },
  {
   "cell_type": "markdown",
   "metadata": {},
   "source": [
    "Considering that the original model can take up to 0.04 seconds per scenario, we can estimate the potential gain in speed-up. (Speed-up = original_time/Data-driven_model_time)"
   ]
  },
  {
   "cell_type": "code",
   "execution_count": 76,
   "metadata": {},
   "outputs": [
    {
     "name": "stdout",
     "output_type": "stream",
     "text": [
      "The data-driven model is 5300.02 times faster than EPANET per scenario.\n"
     ]
    }
   ],
   "source": [
    "original_time_per_sim = 0.04\n",
    "\n",
    "speed_up = np.round(original_time_per_sim/data_driven_exec_time_per_sim, 2)\n",
    "print('The data-driven model is', speed_up,'times faster than EPANET per scenario.')"
   ]
  },
  {
   "cell_type": "markdown",
   "metadata": {},
   "source": [
    "### 8. Save the metamodel"
   ]
  },
  {
   "cell_type": "code",
   "execution_count": 77,
   "metadata": {},
   "outputs": [],
   "source": [
    "with open('model_Sklearn_R2_0.899.p', 'wb') as handle:\n",
    "    pickle.dump(NN, handle)"
   ]
  }
 ],
 "metadata": {
  "kernelspec": {
   "display_name": "venv_MUDE_Opt",
   "language": "python",
   "name": "python3"
  },
  "language_info": {
   "codemirror_mode": {
    "name": "ipython",
    "version": 3
   },
   "file_extension": ".py",
   "mimetype": "text/x-python",
   "name": "python",
   "nbconvert_exporter": "python",
   "pygments_lexer": "ipython3",
   "version": "3.10.2"
  },
  "orig_nbformat": 4
 },
 "nbformat": 4,
 "nbformat_minor": 2
}
